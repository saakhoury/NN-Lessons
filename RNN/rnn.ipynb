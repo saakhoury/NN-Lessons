{
 "cells": [
  {
   "cell_type": "code",
   "execution_count": 16,
   "id": "f359b773-2206-4eca-b997-f6690a939400",
   "metadata": {},
   "outputs": [
    {
     "data": {
      "text/html": [
       "<div>\n",
       "<style scoped>\n",
       "    .dataframe tbody tr th:only-of-type {\n",
       "        vertical-align: middle;\n",
       "    }\n",
       "\n",
       "    .dataframe tbody tr th {\n",
       "        vertical-align: top;\n",
       "    }\n",
       "\n",
       "    .dataframe thead th {\n",
       "        text-align: right;\n",
       "    }\n",
       "</style>\n",
       "<table border=\"1\" class=\"dataframe\">\n",
       "  <thead>\n",
       "    <tr style=\"text-align: right;\">\n",
       "      <th></th>\n",
       "      <th>tmax</th>\n",
       "      <th>tmin</th>\n",
       "      <th>rain</th>\n",
       "      <th>tmax_tomorrow</th>\n",
       "    </tr>\n",
       "  </thead>\n",
       "  <tbody>\n",
       "    <tr>\n",
       "      <th>1970-01-01</th>\n",
       "      <td>60.0</td>\n",
       "      <td>35.0</td>\n",
       "      <td>0.0</td>\n",
       "      <td>52.0</td>\n",
       "    </tr>\n",
       "    <tr>\n",
       "      <th>1970-01-02</th>\n",
       "      <td>52.0</td>\n",
       "      <td>39.0</td>\n",
       "      <td>0.0</td>\n",
       "      <td>52.0</td>\n",
       "    </tr>\n",
       "    <tr>\n",
       "      <th>1970-01-03</th>\n",
       "      <td>52.0</td>\n",
       "      <td>35.0</td>\n",
       "      <td>0.0</td>\n",
       "      <td>53.0</td>\n",
       "    </tr>\n",
       "    <tr>\n",
       "      <th>1970-01-04</th>\n",
       "      <td>53.0</td>\n",
       "      <td>36.0</td>\n",
       "      <td>0.0</td>\n",
       "      <td>52.0</td>\n",
       "    </tr>\n",
       "    <tr>\n",
       "      <th>1970-01-05</th>\n",
       "      <td>52.0</td>\n",
       "      <td>35.0</td>\n",
       "      <td>0.0</td>\n",
       "      <td>50.0</td>\n",
       "    </tr>\n",
       "    <tr>\n",
       "      <th>...</th>\n",
       "      <td>...</td>\n",
       "      <td>...</td>\n",
       "      <td>...</td>\n",
       "      <td>...</td>\n",
       "    </tr>\n",
       "    <tr>\n",
       "      <th>2022-11-22</th>\n",
       "      <td>62.0</td>\n",
       "      <td>35.0</td>\n",
       "      <td>0.0</td>\n",
       "      <td>67.0</td>\n",
       "    </tr>\n",
       "    <tr>\n",
       "      <th>2022-11-23</th>\n",
       "      <td>67.0</td>\n",
       "      <td>38.0</td>\n",
       "      <td>0.0</td>\n",
       "      <td>66.0</td>\n",
       "    </tr>\n",
       "    <tr>\n",
       "      <th>2022-11-24</th>\n",
       "      <td>66.0</td>\n",
       "      <td>41.0</td>\n",
       "      <td>0.0</td>\n",
       "      <td>70.0</td>\n",
       "    </tr>\n",
       "    <tr>\n",
       "      <th>2022-11-25</th>\n",
       "      <td>70.0</td>\n",
       "      <td>39.0</td>\n",
       "      <td>0.0</td>\n",
       "      <td>62.0</td>\n",
       "    </tr>\n",
       "    <tr>\n",
       "      <th>2022-11-26</th>\n",
       "      <td>62.0</td>\n",
       "      <td>41.0</td>\n",
       "      <td>0.0</td>\n",
       "      <td>64.0</td>\n",
       "    </tr>\n",
       "  </tbody>\n",
       "</table>\n",
       "<p>13509 rows × 4 columns</p>\n",
       "</div>"
      ],
      "text/plain": [
       "            tmax  tmin  rain  tmax_tomorrow\n",
       "1970-01-01  60.0  35.0   0.0           52.0\n",
       "1970-01-02  52.0  39.0   0.0           52.0\n",
       "1970-01-03  52.0  35.0   0.0           53.0\n",
       "1970-01-04  53.0  36.0   0.0           52.0\n",
       "1970-01-05  52.0  35.0   0.0           50.0\n",
       "...          ...   ...   ...            ...\n",
       "2022-11-22  62.0  35.0   0.0           67.0\n",
       "2022-11-23  67.0  38.0   0.0           66.0\n",
       "2022-11-24  66.0  41.0   0.0           70.0\n",
       "2022-11-25  70.0  39.0   0.0           62.0\n",
       "2022-11-26  62.0  41.0   0.0           64.0\n",
       "\n",
       "[13509 rows x 4 columns]"
      ]
     },
     "execution_count": 16,
     "metadata": {},
     "output_type": "execute_result"
    }
   ],
   "source": [
    "import pandas as pd \n",
    "import numpy as np \n",
    "import os\n",
    "\n",
    "data = pd.read_csv(\"clean_weather(1).csv\", index_col=0)\n",
    "data = data.ffill()\n",
    "\n",
    "data"
   ]
  },
  {
   "cell_type": "code",
   "execution_count": 17,
   "id": "a48ada77-f682-42f2-8ba5-c9bc3256c41c",
   "metadata": {},
   "outputs": [
    {
     "data": {
      "text/plain": [
       "array([[60., 52., 52., 53., 52., 50., 52., 56., 54., 57.]])"
      ]
     },
     "execution_count": 17,
     "metadata": {},
     "output_type": "execute_result"
    }
   ],
   "source": [
    "data[\"tmax\"].head(10).to_numpy()[np.newaxis,:]"
   ]
  },
  {
   "cell_type": "code",
   "execution_count": 18,
   "id": "4b43f63f-6a44-489f-8278-dc85969041a9",
   "metadata": {},
   "outputs": [
    {
     "data": {
      "text/plain": [
       "array([[60., 52., 52., 53., 52., 50.]])"
      ]
     },
     "execution_count": 18,
     "metadata": {},
     "output_type": "execute_result"
    }
   ],
   "source": [
    "data[\"tmax\"].head(6).to_numpy()[np.newaxis,:]"
   ]
  },
  {
   "cell_type": "code",
   "execution_count": 19,
   "id": "d8f3a3dd-8dd3-4c7b-9b5a-b9751b2e6344",
   "metadata": {},
   "outputs": [
    {
     "data": {
      "text/plain": [
       "array([[60., 52., 52., 53., 52., 50., 52., 56., 54., 57., 57., 58., 59.,\n",
       "        58., 56.]])"
      ]
     },
     "execution_count": 19,
     "metadata": {},
     "output_type": "execute_result"
    }
   ],
   "source": [
    "data[\"tmax\"].head(15).to_numpy()[np.newaxis,:]"
   ]
  },
  {
   "cell_type": "code",
   "execution_count": 20,
   "id": "25a0cd33-7ec9-4324-b96c-7369e3d344ca",
   "metadata": {},
   "outputs": [
    {
     "data": {
      "text/plain": [
       "1970-01-01    60.0\n",
       "1970-01-02    52.0\n",
       "1970-01-03    52.0\n",
       "1970-01-04    53.0\n",
       "1970-01-05    52.0\n",
       "              ... \n",
       "2022-11-22    62.0\n",
       "2022-11-23    67.0\n",
       "2022-11-24    66.0\n",
       "2022-11-25    70.0\n",
       "2022-11-26    62.0\n",
       "Name: tmax, Length: 13509, dtype: float64"
      ]
     },
     "execution_count": 20,
     "metadata": {},
     "output_type": "execute_result"
    }
   ],
   "source": [
    "data[\"tmax\"]"
   ]
  },
  {
   "cell_type": "code",
   "execution_count": 21,
   "id": "21ce7fb8-c2d2-4408-9b80-11e7381d5cc3",
   "metadata": {},
   "outputs": [],
   "source": [
    "#STEP BY STEP FORWARD PASS"
   ]
  },
  {
   "cell_type": "code",
   "execution_count": 22,
   "id": "554f4e9c-5255-4d55-ade9-5d8336396607",
   "metadata": {},
   "outputs": [
    {
     "data": {
      "text/plain": [
       "array([66., 70., 62.])"
      ]
     },
     "execution_count": 22,
     "metadata": {},
     "output_type": "execute_result"
    }
   ],
   "source": [
    "np.random.seed(0)\n",
    "\n",
    "i_weight = np.random.rand(1,2) \n",
    "h_weight = np.random.rand(2,2)\n",
    "o_weight = np.random.rand(2,1)\n",
    "\n",
    "temps = data[\"tmax\"].tail(3).to_numpy()\n",
    "temps"
   ]
  },
  {
   "cell_type": "code",
   "execution_count": 23,
   "id": "de4effd6-7ba6-4757-af8f-5d23e2d873bb",
   "metadata": {},
   "outputs": [],
   "source": [
    "x0 = temps[0].reshape(1,1)\n",
    "x1 = temps[1].reshape(1,1)\n",
    "x2 = temps[2].reshape(1,1)"
   ]
  },
  {
   "cell_type": "code",
   "execution_count": 24,
   "id": "46385e7b-d61d-4f68-a8cb-41b3ca2dc9ce",
   "metadata": {},
   "outputs": [
    {
     "data": {
      "text/plain": [
       "array([[66.]])"
      ]
     },
     "execution_count": 24,
     "metadata": {},
     "output_type": "execute_result"
    }
   ],
   "source": [
    "x0"
   ]
  },
  {
   "cell_type": "code",
   "execution_count": 25,
   "id": "40b9dee6-0968-4f60-8e70-ca43d68bee82",
   "metadata": {},
   "outputs": [
    {
     "data": {
      "text/plain": [
       "array([[36.22169126, 47.20249818]])"
      ]
     },
     "execution_count": 25,
     "metadata": {},
     "output_type": "execute_result"
    }
   ],
   "source": [
    "xi_0 = x0 @ i_weight\n",
    "\n",
    "xi_0"
   ]
  },
  {
   "cell_type": "code",
   "execution_count": 26,
   "id": "e75f68eb-e587-4010-815a-72618274799b",
   "metadata": {},
   "outputs": [
    {
     "data": {
      "text/plain": [
       "array([[36.22169126, 47.20249818]])"
      ]
     },
     "execution_count": 26,
     "metadata": {},
     "output_type": "execute_result"
    }
   ],
   "source": [
    "xh_0 = np.maximum(0, xi_0)\n",
    "\n",
    "xh_0"
   ]
  },
  {
   "cell_type": "code",
   "execution_count": 27,
   "id": "4e01197b-7e1e-4c88-ab4a-d54f25f74186",
   "metadata": {},
   "outputs": [
    {
     "data": {
      "text/plain": [
       "array([[57.94406231]])"
      ]
     },
     "execution_count": 27,
     "metadata": {},
     "output_type": "execute_result"
    }
   ],
   "source": [
    "xo_0 = xh_0 @ o_weight\n",
    "\n",
    "xo_0"
   ]
  },
  {
   "cell_type": "code",
   "execution_count": 30,
   "id": "90657e50-df80-44e8-a8f5-6f382846afc7",
   "metadata": {},
   "outputs": [
    {
     "data": {
      "text/plain": [
       "array([[124.54916092]])"
      ]
     },
     "execution_count": 30,
     "metadata": {},
     "output_type": "execute_result"
    }
   ],
   "source": [
    "xi_1 = x1 @ i_weight\n",
    "\n",
    "xh = xh_0 @ h_weight\n",
    "\n",
    "xh_1 = np.maximum(0, xh + xi_1)\n",
    "\n",
    "xo_1 = xh_1 @ o_weight \n",
    "\n",
    "xo_1"
   ]
  },
  {
   "cell_type": "code",
   "execution_count": 31,
   "id": "fd48f2da-d7a4-4f4a-8a5b-3cebf911cc07",
   "metadata": {},
   "outputs": [
    {
     "data": {
      "text/plain": [
       "array([[190.94853131]])"
      ]
     },
     "execution_count": 31,
     "metadata": {},
     "output_type": "execute_result"
    }
   ],
   "source": [
    "xi_2 = x2 @ i_weight\n",
    "xh = xh_1 @ h_weight\n",
    "xh_2 = np.maximum(0, xh + xi_2)\n",
    "xo_2 = xh_2 @ o_weight\n",
    "xo_2"
   ]
  },
  {
   "cell_type": "code",
   "execution_count": 32,
   "id": "fe8ca40f-7598-415b-a30b-e3e0976c1061",
   "metadata": {},
   "outputs": [],
   "source": [
    "#TANH ACTIVATION FUNCTION"
   ]
  },
  {
   "cell_type": "code",
   "execution_count": 33,
   "id": "4eeb7da2-f0fb-4738-a5fc-91e1e80f9082",
   "metadata": {},
   "outputs": [
    {
     "data": {
      "text/plain": [
       "array([[36.22169126, 47.20249818]])"
      ]
     },
     "execution_count": 33,
     "metadata": {},
     "output_type": "execute_result"
    }
   ],
   "source": [
    "xh_0"
   ]
  },
  {
   "cell_type": "code",
   "execution_count": 34,
   "id": "cff97cd0-d460-4348-92f0-1a1ef7c5e54b",
   "metadata": {},
   "outputs": [
    {
     "data": {
      "text/plain": [
       "array([[ 80.24761908, 100.28766177]])"
      ]
     },
     "execution_count": 34,
     "metadata": {},
     "output_type": "execute_result"
    }
   ],
   "source": [
    "xh_1"
   ]
  },
  {
   "cell_type": "code",
   "execution_count": 36,
   "id": "95d94f8f-baf9-4836-a750-efd90b8eab42",
   "metadata": {},
   "outputs": [
    {
     "data": {
      "text/plain": [
       "array([[124.88411227, 152.84252918]])"
      ]
     },
     "execution_count": 36,
     "metadata": {},
     "output_type": "execute_result"
    }
   ],
   "source": [
    "xh_2"
   ]
  },
  {
   "cell_type": "markdown",
   "id": "8f00fcb1-6497-4194-9d88-36d9e2ea4a98",
   "metadata": {},
   "source": [
    "$$\\tanh = \\dfrac{e^{x}-e^{-x}}{e^{x}+e^{-x}}$$"
   ]
  },
  {
   "cell_type": "code",
   "execution_count": 38,
   "id": "8f4871a4-0a33-4bbd-b1d5-384c236bcc3c",
   "metadata": {},
   "outputs": [
    {
     "data": {
      "text/plain": [
       "[<matplotlib.lines.Line2D at 0x12e66f350>]"
      ]
     },
     "execution_count": 38,
     "metadata": {},
     "output_type": "execute_result"
    },
    {
     "data": {
      "image/png": "[encoded data removed]",
      "text/plain": [
       "<Figure size 640x480 with 1 Axes>"
      ]
     },
     "metadata": {},
     "output_type": "display_data"
    }
   ],
   "source": [
    "import matplotlib.pyplot as plt\n",
    "\n",
    "temps = np.arange(-10, 10, .1) \n",
    "\n",
    "plt.plot(temps, np.tanh(temps))"
   ]
  },
  {
   "cell_type": "code",
   "execution_count": 39,
   "id": "2fee1868-541f-4c24-b8d3-7781a32dbe93",
   "metadata": {},
   "outputs": [
    {
     "data": {
      "text/latex": [
       "$\\displaystyle \\frac{\\left(- e^{x} + e^{- x}\\right) \\left(e^{x} - e^{- x}\\right)}{\\left(e^{x} + e^{- x}\\right)^{2}} + 1$"
      ],
      "text/plain": [
       "(-exp(x) + exp(-x))*(exp(x) - exp(-x))/(exp(x) + exp(-x))**2 + 1"
      ]
     },
     "execution_count": 39,
     "metadata": {},
     "output_type": "execute_result"
    }
   ],
   "source": [
    "from sympy import diff, symbols, exp \n",
    "\n",
    "x = symbols(\"x\")\n",
    "sympy_tanh = (exp(x) - exp(-x)) / (exp(x) + exp(-x))\n",
    "diff(sympy_tanh, x)"
   ]
  },
  {
   "cell_type": "markdown",
   "id": "387d131e-173a-45f0-adf6-98f0d9fad635",
   "metadata": {},
   "source": [
    "$1 - \\tanh^2{x}$"
   ]
  },
  {
   "cell_type": "code",
   "execution_count": 40,
   "id": "60b2cc6f-1ff8-4254-a16a-88925b024649",
   "metadata": {},
   "outputs": [
    {
     "data": {
      "text/plain": [
       "[<matplotlib.lines.Line2D at 0x12fc86cc0>]"
      ]
     },
     "execution_count": 40,
     "metadata": {},
     "output_type": "execute_result"
    },
    {
     "data": {
      "image/png": "[encoded data removed]",
      "text/plain": [
       "<Figure size 640x480 with 1 Axes>"
      ]
     },
     "metadata": {},
     "output_type": "display_data"
    }
   ],
   "source": [
    "plt.plot(temps, 1-np.tanh(temps) ** 2)"
   ]
  },
  {
   "cell_type": "code",
   "execution_count": 41,
   "id": "39178839-2a01-4b23-b30b-4004c55b0801",
   "metadata": {},
   "outputs": [],
   "source": [
    "#FULL FORWARD PASS "
   ]
  },
  {
   "cell_type": "code",
   "execution_count": 43,
   "id": "93cd49fa-d17f-4f74-a9ba-e56850a95913",
   "metadata": {},
   "outputs": [],
   "source": [
    "np.random.seed(0)\n",
    "\n",
    "i_weight = np.random.rand(1,5) / 5 - .1 \n",
    "h_weight = np.random.rand(5,5) / 5 - .1 \n",
    "h_bias = np.random.rand(1,5) / 5 - .1\n",
    "\n",
    "o_weight = np.random.rand(5,1) * 50\n",
    "o_bias = np.random.rand(1,1)"
   ]
  },
  {
   "cell_type": "code",
   "execution_count": null,
   "id": "830b146a-25d5-49f0-bc22-d333a367be48",
   "metadata": {},
   "outputs": [],
   "source": [
    "outputs = np.zeros(3) \n",
    "hiddens = np.zeros((3,5))\n",
    "prev_hidden = None\n",
    "sequence = data[\"tmax\"].tail(3).to_numpy()\n",
    "\n",
    "for i in range(3):\n",
    "    x = sequence[i].reshape(1,1)\n",
    "\n",
    "    xi = x @ i_weight\n",
    "    if prev_hidden is None:\n",
    "        xh = xi\n",
    "    else:\n",
    "        xh = xi + prev_hidden @ h_weight + h_bias \n",
    "\n",
    "    xh = np.tanh(xh)\n",
    "    prev_hidden = xh \n",
    "    hiddens[i,] = xh \n",
    "\n",
    "    xo = xh @ o_weight + o_bias \n",
    "    outputs[i] = xo"
   ]
  },
  {
   "cell_type": "code",
   "execution_count": 45,
   "id": "3d3a82c6-f9bc-4831-bfc2-41c6e7a94938",
   "metadata": {},
   "outputs": [
    {
     "data": {
      "text/plain": [
       "array([74.31470595, 80.66149404, 77.67852446])"
      ]
     },
     "execution_count": 45,
     "metadata": {},
     "output_type": "execute_result"
    }
   ],
   "source": [
    "outputs"
   ]
  },
  {
   "cell_type": "code",
   "execution_count": 46,
   "id": "c95f8e07-fa4f-458e-8af9-0b9fbb381060",
   "metadata": {},
   "outputs": [
    {
     "data": {
      "text/plain": [
       "array([[ 0.56784618,  0.99320288,  0.87557333,  0.53166114, -0.76483255],\n",
       "       [ 0.58366756,  0.99568651,  0.90034879,  0.69338529, -0.84149203],\n",
       "       [ 0.5383306 ,  0.99164251,  0.86287584,  0.66091071, -0.80543591]])"
      ]
     },
     "execution_count": 46,
     "metadata": {},
     "output_type": "execute_result"
    }
   ],
   "source": [
    "hiddens"
   ]
  },
  {
   "cell_type": "code",
   "execution_count": 47,
   "id": "7eb7b54d-84a2-4f99-a197-b6be6f4bba8e",
   "metadata": {},
   "outputs": [],
   "source": [
    "#FULL BACKWARD PASS"
   ]
  },
  {
   "cell_type": "code",
   "execution_count": 48,
   "id": "4debd8bc-4572-4a5a-a300-a555da2b78ab",
   "metadata": {},
   "outputs": [],
   "source": [
    "def mse(actual, predicted):\n",
    "    return np.mean((actual-predicted) ** 2)\n",
    "\n",
    "def mse_grad(actual, predicted):\n",
    "    return (predicted-actual)"
   ]
  },
  {
   "cell_type": "code",
   "execution_count": 49,
   "id": "8cc9dc4a-e048-4027-bb53-1c0a8c925828",
   "metadata": {},
   "outputs": [
    {
     "data": {
      "text/plain": [
       "array([ 4.31470595, 18.66149404, 12.67852446])"
      ]
     },
     "execution_count": 49,
     "metadata": {},
     "output_type": "execute_result"
    }
   ],
   "source": [
    "actuals = np.array([70, 62, 65])\n",
    "\n",
    "loss_grad = mse_grad(actuals, outputs)\n",
    "loss_grad"
   ]
  },
  {
   "cell_type": "code",
   "execution_count": 53,
   "id": "1ab6e637-51d9-4a9a-895c-2a1e4e787d4d",
   "metadata": {},
   "outputs": [],
   "source": [
    "next_hidden = None\n",
    "\n",
    "o_weight_grad, o_bias_grad, h_weight_grad, h_bias_grad, i_weight_grad = [0] * 5 \n",
    "\n",
    "for i in range(2, -1, -1):\n",
    "    l_grad = loss_grad[i].reshape(1,1)\n",
    "\n",
    "    o_weight_grad += hiddens[i][:,np.newaxis] @ l_grad\n",
    "    o_bias_grad += np.mean(l_grad)\n",
    "\n",
    "    o_grad = l_grad @ o_weight.T\n",
    "\n",
    "    if next_hidden is None:\n",
    "        h_grad = o_grad\n",
    "    else:\n",
    "        h_grad = o_grad + next_hidden @ h_weight.T\n",
    "\n",
    "    tanh_deriv = 1 - hiddens[i,:][np.newaxis,:]\n",
    "    h_grad = np.multiply(h_grad, tanh_deriv)\n",
    "\n",
    "    next_hidden = h_grad\n",
    "\n",
    "    if i > 0:\n",
    "        h_weight_grad += hiddens[i-1,:][:,np.newaxis] @ h_grad\n",
    "        h_bias_grad += np.mean(h_grad)\n",
    "\n",
    "    i_weight_grad += sequence[i].reshape(1,1).T @ h_grad"
   ]
  },
  {
   "cell_type": "code",
   "execution_count": 54,
   "id": "aa3d331e-bbd8-4a0f-8cbb-11715a408323",
   "metadata": {},
   "outputs": [
    {
     "data": {
      "text/plain": [
       "array([[ 32352.67091083,    392.99655233,   9528.43418739,\n",
       "         35514.29142052, 146401.10347147]])"
      ]
     },
     "execution_count": 54,
     "metadata": {},
     "output_type": "execute_result"
    }
   ],
   "source": [
    "i_weight_grad"
   ]
  },
  {
   "cell_type": "code",
   "execution_count": 56,
   "id": "30fd03b3-3611-4b1f-8bdc-11d8a28d2f48",
   "metadata": {},
   "outputs": [],
   "source": [
    "lr = 1e-6\n",
    "\n",
    "i_weight -= i_weight_grad * lr \n",
    "h_weight -= h_weight_grad * lr \n",
    "h_bias -= h_bias_grad * lr \n",
    "o_weight -= o_weight_grad * lr \n",
    "o_bias -= o_bias_grad * lr "
   ]
  },
  {
   "cell_type": "code",
   "execution_count": 58,
   "id": "51f75cf2-e8e1-4227-be6b-eaf893db2015",
   "metadata": {},
   "outputs": [
    {
     "data": {
      "text/plain": [
       "array([[-0.05494264,  0.04225188,  0.00149581, -0.06205195, -0.30807125]])"
      ]
     },
     "execution_count": 58,
     "metadata": {},
     "output_type": "execute_result"
    }
   ],
   "source": [
    "i_weight"
   ]
  },
  {
   "cell_type": "code",
   "execution_count": 59,
   "id": "9edf948d-5d27-4e62-a8dc-7c6b351e2809",
   "metadata": {},
   "outputs": [],
   "source": [
    "#COMPLETE IMPLEMENTATION"
   ]
  },
  {
   "cell_type": "code",
   "execution_count": 60,
   "id": "e933ca57-a12b-4379-9d50-7c6eed0bcc7c",
   "metadata": {},
   "outputs": [
    {
     "name": "stderr",
     "output_type": "stream",
     "text": [
      "/Library/Frameworks/Python.framework/Versions/3.12/lib/python3.12/site-packages/numpy/core/fromnumeric.py:59: FutureWarning: 'DataFrame.swapaxes' is deprecated and will be removed in a future version. Please use 'DataFrame.transpose' instead.\n",
      "  return bound(*args, **kwds)\n"
     ]
    }
   ],
   "source": [
    "from sklearn.preprocessing import StandardScaler\n",
    "import math\n",
    "\n",
    "# Define predictors and target\n",
    "PREDICTORS = [\"tmax\", \"tmin\", \"rain\"]\n",
    "TARGET = \"tmax_tomorrow\"\n",
    "\n",
    "# Scale our data to have mean 0\n",
    "scaler = StandardScaler()\n",
    "data[PREDICTORS] = scaler.fit_transform(data[PREDICTORS])\n",
    "\n",
    "# Split into train, valid, test sets\n",
    "np.random.seed(0)\n",
    "split_data = np.split(data, [int(.7*len(data)), int(.85*len(data))])\n",
    "(train_x, train_y), (valid_x, valid_y), (test_x, test_y) = [[d[PREDICTORS].to_numpy(), d[[TARGET]].to_numpy()] for d in split_data]"
   ]
  },
  {
   "cell_type": "code",
   "execution_count": 61,
   "id": "882d1dff-0594-429e-b049-4094f3c06838",
   "metadata": {},
   "outputs": [],
   "source": [
    "def init_params(layer_conf):\n",
    "    layers = []\n",
    "    for i in range(1, len(layer_conf)):\n",
    "        np.random.seed(0)\n",
    "        k = 1/math.sqrt(layer_conf[i][\"hidden\"])\n",
    "        i_weight = np.random.rand(layer_conf[i-1][\"units\"], layer_conf[i][\"hidden\"]) * 2 * k - k\n",
    "\n",
    "        h_weight = np.random.rand(layer_conf[i][\"hidden\"], layer_conf[i][\"hidden\"]) * 2 * k - k\n",
    "        h_bias = np.random.rand(1, layer_conf[i][\"hidden\"]) * 2 * k - k\n",
    "\n",
    "        o_weight = np.random.rand(layer_conf[i][\"hidden\"], layer_conf[i][\"output\"]) * 2 * k - k\n",
    "        o_bias = np.random.rand(1, layer_conf[i][\"output\"]) * 2 * k - k\n",
    "\n",
    "        layers.append(\n",
    "            [i_weight, h_weight, h_bias, o_weight, o_bias]\n",
    "        )\n",
    "    return layers"
   ]
  },
  {
   "cell_type": "code",
   "execution_count": 62,
   "id": "359a409b-ad62-44a1-b4a9-0129acf39357",
   "metadata": {},
   "outputs": [],
   "source": [
    "def forward(x, layers):\n",
    "    hiddens = []\n",
    "    outputs = []\n",
    "    for i in range(len(layers)):\n",
    "        i_weight, h_weight, h_bias, o_weight, o_bias = layers[i]\n",
    "        hidden = np.zeros((x.shape[0], i_weight.shape[1]))\n",
    "        output = np.zeros((x.shape[0], o_weight.shape[1]))\n",
    "        for j in range(x.shape[0]):\n",
    "            input_x = x[j,:][np.newaxis,:] @ i_weight\n",
    "            hidden_x = input_x + hidden[max(j-1,0),:][np.newaxis,:] @ h_weight + h_bias\n",
    "            # Activation.  tanh avoids outputs getting larger and larger.\n",
    "            hidden_x = np.tanh(hidden_x)\n",
    "            # Store hidden for use in backprop\n",
    "            hidden[j,:] = hidden_x\n",
    "\n",
    "            # Output layer\n",
    "            output_x = hidden_x @ o_weight + o_bias\n",
    "            output[j,:] = output_x\n",
    "        hiddens.append(hidden)\n",
    "        outputs.append(output)\n",
    "    return hiddens, outputs[-1]"
   ]
  },
  {
   "cell_type": "code",
   "execution_count": 64,
   "id": "e33b7c3f-a32b-4ae8-aecc-fbde46567fc1",
   "metadata": {},
   "outputs": [],
   "source": [
    "def backward(layers, x, lr, grad, hiddens):\n",
    "    for i in range(len(layers)):\n",
    "        i_weight, h_weight, h_bias, o_weight, o_bias = layers[i]\n",
    "        hidden = hiddens[i]\n",
    "        next_h_grad = None\n",
    "        i_weight_grad, h_weight_grad, h_bias_grad, o_weight_grad, o_bias_grad = [0] * 5\n",
    "\n",
    "        for j in range(x.shape[0] - 1, -1, -1):\n",
    "            # Add newaxis in the first dimension\n",
    "            out_grad = grad[j,:][np.newaxis, :]\n",
    "\n",
    "            # Output updates\n",
    "            # np.newaxis creates a size 1 axis, in this case transposing matrix\n",
    "            o_weight_grad += hidden[j,:][:, np.newaxis] @ out_grad\n",
    "            o_bias_grad += out_grad\n",
    "\n",
    "            # Propagate gradient to hidden unit\n",
    "            h_grad = out_grad @ o_weight.T\n",
    "\n",
    "            if j < x.shape[0] - 1:\n",
    "                # Then we multiply the gradient by the hidden weights to pull gradient from next hidden state to current hidden state\n",
    "                hh_grad = next_h_grad @ h_weight.T\n",
    "                # Add the gradients together to combine output contribution and hidden contribution\n",
    "                h_grad += hh_grad\n",
    "\n",
    "            # Pull the gradient across the current hidden nonlinearity\n",
    "            # derivative of tanh is 1 - tanh(x) ** 2\n",
    "            # So we take the output of tanh (next hidden state), and plug in\n",
    "            tanh_deriv = 1 - hidden[j][np.newaxis,:] ** 2\n",
    "\n",
    "            # next_h_grad @ np.diag(tanh_deriv_next) multiplies each element of next_h_grad by the deriv\n",
    "            # Effect is to pull value across nonlinearity\n",
    "            h_grad = np.multiply(h_grad, tanh_deriv)\n",
    "\n",
    "            # Store to compute h grad for previous sequence position\n",
    "            next_h_grad = h_grad.copy()\n",
    "\n",
    "            # If we're not at the very beginning\n",
    "            if j > 0:\n",
    "                # Multiply input from previous layer by post-nonlinearity grad at current layer\n",
    "                h_weight_grad += hidden[j-1][:, np.newaxis] @ h_grad\n",
    "                h_bias_grad += h_grad\n",
    "\n",
    "            i_weight_grad += x[j,:][:,np.newaxis] @ h_grad\n",
    "\n",
    "        # Normalize lr by number of sequence elements\n",
    "        lr = lr / x.shape[0]\n",
    "        i_weight -= i_weight_grad * lr\n",
    "        h_weight -= h_weight_grad * lr\n",
    "        h_bias -= h_bias_grad * lr\n",
    "        o_weight -= o_weight_grad * lr\n",
    "        o_bias -= o_bias_grad * lr\n",
    "        layers[i] = [i_weight, h_weight, h_bias, o_weight, o_bias]\n",
    "    return layers"
   ]
  },
  {
   "cell_type": "code",
   "execution_count": 65,
   "id": "42232e1a-e09c-4b49-a55d-e35bb1388f74",
   "metadata": {},
   "outputs": [
    {
     "name": "stdout",
     "output_type": "stream",
     "text": [
      "Epoch: 0 train loss 3122.5944001445105 valid loss 2171.3186862102048\n",
      "Epoch: 50 train loss 30.593193275313325 valid loss 30.568271740103103\n",
      "Epoch: 100 train loss 25.26398681354356 valid loss 24.43551751035538\n",
      "Epoch: 150 train loss 22.95676242953134 valid loss 22.17701097197684\n",
      "Epoch: 200 train loss 22.30677432770408 valid loss 21.557992202834072\n"
     ]
    }
   ],
   "source": [
    "epochs = 250\n",
    "lr = 1e-5\n",
    "\n",
    "layer_conf = [\n",
    "    {\"type\":\"input\", \"units\": 3},\n",
    "    {\"type\": \"rnn\", \"hidden\": 4, \"output\": 1}\n",
    "]\n",
    "layers = init_params(layer_conf)\n",
    "\n",
    "for epoch in range(epochs):\n",
    "    sequence_len = 7\n",
    "    epoch_loss = 0\n",
    "    for j in range(train_x.shape[0] - sequence_len):\n",
    "        seq_x = train_x[j:(j+sequence_len),]\n",
    "        seq_y = train_y[j:(j+sequence_len),]\n",
    "        hiddens, outputs = forward(seq_x, layers)\n",
    "        grad = mse_grad(seq_y, outputs)\n",
    "        params = backward(layers, seq_x, lr, grad, hiddens)\n",
    "        epoch_loss += mse(seq_y, outputs)\n",
    "\n",
    "    if epoch % 50 == 0:\n",
    "        sequence_len = 7\n",
    "        valid_loss = 0\n",
    "        for j in range(valid_x.shape[0] - sequence_len):\n",
    "            seq_x = valid_x[j:(j+sequence_len),]\n",
    "            seq_y = valid_y[j:(j+sequence_len),]\n",
    "            _, outputs = forward(seq_x, layers)\n",
    "            valid_loss += mse(seq_y, outputs)\n",
    "\n",
    "        print(f\"Epoch: {epoch} train loss {epoch_loss / len(train_x)} valid loss {valid_loss / len(valid_x)}\")"
   ]
  },
  {
   "cell_type": "code",
   "execution_count": null,
   "id": "8fdc6350-e7b0-4fea-84e8-3b386fddfd33",
   "metadata": {},
   "outputs": [],
   "source": []
  }
 ],
 "metadata": {
  "kernelspec": {
   "display_name": "Python 3 (ipykernel)",
   "language": "python",
   "name": "python3"
  },
  "language_info": {
   "codemirror_mode": {
    "name": "ipython",
    "version": 3
   },
   "file_extension": ".py",
   "mimetype": "text/x-python",
   "name": "python",
   "nbconvert_exporter": "python",
   "pygments_lexer": "ipython3",
   "version": "3.12.1"
  }
 },
 "nbformat": 4,
 "nbformat_minor": 5
}
