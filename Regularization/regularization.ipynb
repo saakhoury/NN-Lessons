{
 "cells": [
  {
   "cell_type": "code",
   "execution_count": 5,
   "id": "41e77b1e-fa60-4126-afc5-3e50c625b3f7",
   "metadata": {},
   "outputs": [
    {
     "name": "stderr",
     "output_type": "stream",
     "text": [
      "Downloading...\n",
      "From: https://drive.google.com/uc?export=download&id=1eWeeYlxNatpXQSsiFwQg2HJeYCTJNj9Z\n",
      "To: /Users/sanskritiakhoury/Desktop/machine learning/Regularization/house_prices.csv\n",
      "100%|██████████████████████████████████████| 71.2k/71.2k [00:00<00:00, 3.58MB/s]\n",
      "/Library/Frameworks/Python.framework/Versions/3.12/lib/python3.12/site-packages/numpy/core/fromnumeric.py:59: FutureWarning: 'DataFrame.swapaxes' is deprecated and will be removed in a future version. Please use 'DataFrame.transpose' instead.\n",
      "  return bound(*args, **kwds)\n"
     ]
    }
   ],
   "source": [
    "import sys, os\n",
    "sys.path.append(os.path.abspath('../data'))\n",
    "sys.path.append(os.path.abspath('../nnets'))\n",
    "from dense import DenseManualUpdate as Dense, forward, backward\n",
    "from csv_data import HousePricesDatasetWrapper\n",
    "import numpy as np\n",
    "from optimizer import Optimizer\n",
    "\n",
    "wrapper = HousePricesDatasetWrapper()\n",
    "train_data, valid_data, test_data = wrapper.get_flat_datasets()"
   ]
  },
  {
   "cell_type": "code",
   "execution_count": 6,
   "id": "2991fe4f-983a-40ac-851a-0b6eb4e8d416",
   "metadata": {},
   "outputs": [
    {
     "name": "stdout",
     "output_type": "stream",
     "text": [
      "env: WANDB_SILENT=True\n"
     ]
    }
   ],
   "source": [
    "# Initialize W&B\n",
    "%env WANDB_SILENT=True\n",
    "\n",
    "import wandb\n",
    "wandb.login()\n",
    "\n",
    "def training_run(epochs, regularization, layers, optimizer, train_data, valid_data, name=None):\n",
    "    # Initialize a new W&B run\n",
    "    wandb.init(project=\"regularization\",\n",
    "               name=name,\n",
    "               config={\"regularization\": regularization})\n",
    "\n",
    "    # Split the training and valid data into x and y\n",
    "    train_x, train_y = train_data\n",
    "    valid_x, valid_y = valid_data\n",
    "\n",
    "    for epoch in range(epochs):\n",
    "        running_loss = 0\n",
    "        for i in range(len(train_x)):\n",
    "            # Get the x and y batches\n",
    "            x_batch = train_x[i:(i+1)]\n",
    "            y_batch = train_y[i:(i+1)]\n",
    "            # Make a prediction\n",
    "            pred = forward(x_batch, layers, training=True)\n",
    "\n",
    "            # Run the backward pass\n",
    "            loss = pred - y_batch\n",
    "            layer_grads = backward(loss, layers)\n",
    "            running_loss += np.mean(loss ** 2)\n",
    "\n",
    "            # Run the optimizer\n",
    "            optimizer(layer_grads, layers, 1)\n",
    "\n",
    "        # Calculate and log validation loss\n",
    "        valid_preds = forward(valid_x, layers, training=False)\n",
    "        valid_loss = np.mean((valid_preds - valid_y) ** 2)\n",
    "        train_loss = running_loss / len(train_x)\n",
    "\n",
    "        # Log training metrics\n",
    "        wandb.log({\n",
    "            \"valid_loss\": valid_loss,\n",
    "            \"epoch\": epoch,\n",
    "            \"train_loss\": train_loss,\n",
    "        })\n",
    "\n",
    "    # Mark the run as complete\n",
    "    wandb.finish()"
   ]
  },
  {
   "cell_type": "code",
   "execution_count": 7,
   "id": "0fee97c5-8c91-4122-91b0-28db224a63b6",
   "metadata": {},
   "outputs": [],
   "source": [
    "def test_loss(layers, test_data):\n",
    "    test_x, test_y = test_data\n",
    "    preds = forward(test_x, layers, training=False)\n",
    "    loss = np.mean((preds - test_y) ** 2)\n",
    "    return loss"
   ]
  },
  {
   "cell_type": "code",
   "execution_count": 8,
   "id": "fcd9ea8d-ab4a-4bbb-84df-86a483656425",
   "metadata": {},
   "outputs": [],
   "source": [
    "class SGDW(Optimizer):\n",
    "    def __init__(self, lr, decay):\n",
    "        # Store the learning rate and decay coefficient\n",
    "        self.lr = lr\n",
    "        self.decay = decay\n",
    "        super().__init__()\n",
    "\n",
    "    def __call__(self, layer_grads, layers, batch_size):\n",
    "        # Loop through the layer grads.  Reverse the layers to match the grads (from output backward to input).\n",
    "        for layer_grad, layer in zip(layer_grads, reversed(layers)):\n",
    "            if layer_grad is None:\n",
    "                # Account for dropout layers\n",
    "                continue\n",
    "            w_grad, b_grad = layer_grad\n",
    "\n",
    "            # Calculate the gradient update size\n",
    "            w_update = -self.lr * w_grad\n",
    "            # Calculate weight decay\n",
    "            w_update -= self.decay * layer.weights\n",
    "\n",
    "            # We don't usually decay the bias\n",
    "            b_update = -self.lr * b_grad\n",
    "\n",
    "            # Actually do the update\n",
    "            layer.update(w_update, b_update)\n",
    "\n",
    "        self.save_vector(layers)"
   ]
  },
  {
   "cell_type": "code",
   "execution_count": 9,
   "id": "c26b34da-5a61-4969-86e5-bca4354b00f2",
   "metadata": {},
   "outputs": [
    {
     "data": {
      "image/png": "[encoded data removed]",
      "text/plain": [
       "<Figure size 640x480 with 1 Axes>"
      ]
     },
     "metadata": {},
     "output_type": "display_data"
    }
   ],
   "source": [
    "# Two-layer neural network\n",
    "layers_sgd = [\n",
    "    Dense(7, 10),\n",
    "    Dense(10, 1, activation=False)\n",
    "]\n",
    "# No decay is equal to SGD\n",
    "sgd = SGDW(1e-3, 0)\n",
    "# Normal SGD\n",
    "training_run(10, \"None\", layers_sgd, sgd, train_data, valid_data, name=\"sgd\")\n",
    "\n",
    "# Plot the final weights\n",
    "sgd.plot_final_weights()"
   ]
  },
  {
   "cell_type": "code",
   "execution_count": 10,
   "id": "a4155559-dc62-4c2c-82c5-a4d01631034b",
   "metadata": {},
   "outputs": [
    {
     "data": {
      "image/png": "[encoded data removed]",
      "text/plain": [
       "<Figure size 640x480 with 1 Axes>"
      ]
     },
     "metadata": {},
     "output_type": "display_data"
    }
   ],
   "source": [
    "layers_sgdw = [\n",
    "    Dense(7, 10),\n",
    "    Dense(10, 1, activation=False)\n",
    "]\n",
    "\n",
    "# No decay is equal to SGD\n",
    "sgd = SGDW(1e-3, 5e-4)\n",
    "# Weight decay\n",
    "training_run(10, \"Weight Decay\", layers_sgdw, sgd, train_data, valid_data, name=\"sgdw\")\n",
    "sgd.plot_final_weights()"
   ]
  },
  {
   "cell_type": "code",
   "execution_count": 11,
   "id": "b9ddda6d-2ed0-414b-915f-7ae9c71e49fd",
   "metadata": {},
   "outputs": [
    {
     "name": "stdout",
     "output_type": "stream",
     "text": [
      "SGD: 28.32565740885787\n",
      "SGDW: 107.32555507049128\n"
     ]
    }
   ],
   "source": [
    "print(f\"SGD: {test_loss(layers_sgd, test_data)}\")\n",
    "print(f\"SGDW: {test_loss(layers_sgdw, test_data)}\")"
   ]
  },
  {
   "cell_type": "code",
   "execution_count": 12,
   "id": "37ed9599-660c-4ae8-a32e-48d92a4afbe5",
   "metadata": {},
   "outputs": [],
   "source": [
    "class Dropout():\n",
    "    def __init__(self, drop_p):\n",
    "        # Probability that we'll drop out any single input\n",
    "        self.drop_p = drop_p\n",
    "        self.training = True\n",
    "\n",
    "    def forward(self, input):\n",
    "        if self.training:\n",
    "            # Generate a mask of 0s and 1s, using the drop probability\n",
    "            self.mask = np.random.binomial(1, 1-self.drop_p, input.shape)\n",
    "        else:\n",
    "            # No dropout in inference\n",
    "            self.mask = np.ones_like(input)\n",
    "        # Apply the mask.  If the mask is 0, the input is set to 0\n",
    "        return np.where(self.mask, input, 0)\n",
    "\n",
    "    def backward(self, grad):\n",
    "        # Use np.where to zero out the gradient where we did dropout\n",
    "        return None, np.where(self.mask, grad, 0)"
   ]
  },
  {
   "cell_type": "code",
   "execution_count": 13,
   "id": "2d649125-06e4-4152-8601-09356ddd6fea",
   "metadata": {},
   "outputs": [
    {
     "data": {
      "image/png": "[encoded data removed]",
      "text/plain": [
       "<Figure size 640x480 with 1 Axes>"
      ]
     },
     "metadata": {},
     "output_type": "display_data"
    }
   ],
   "source": [
    "layers_dropout = [\n",
    "    Dense(7, 10),\n",
    "    Dropout(.2),\n",
    "    Dense(10, 1, activation=False)\n",
    "]\n",
    "\n",
    "sgd = SGDW(1e-3, 5e-4)\n",
    "# Weight decay and dropout\n",
    "training_run(10, \"Weight Decay + Dropout\", layers_dropout, sgd, train_data, valid_data, name=\"dropout\")\n",
    "sgd.plot_final_weights()"
   ]
  },
  {
   "cell_type": "code",
   "execution_count": 14,
   "id": "2e9b9374-4a90-4623-9f1c-aae78e80b906",
   "metadata": {},
   "outputs": [
    {
     "name": "stdout",
     "output_type": "stream",
     "text": [
      "SGDW: 107.32555507049128\n",
      "SGDW + Dropout: 13.244365053084683\n"
     ]
    }
   ],
   "source": [
    "print(f\"SGDW: {test_loss(layers_sgdw, test_data)}\")\n",
    "print(f\"SGDW + Dropout: {test_loss(layers_dropout, test_data)}\")"
   ]
  },
  {
   "cell_type": "code",
   "execution_count": 15,
   "id": "cc50db83-8066-4e2e-bc5a-630b4d06486d",
   "metadata": {},
   "outputs": [
    {
     "data": {
      "image/png": "[encoded data removed]",
      "text/plain": [
       "<Figure size 640x480 with 1 Axes>"
      ]
     },
     "metadata": {},
     "output_type": "display_data"
    }
   ],
   "source": [
    "layers_early = [\n",
    "    Dense(7, 10),\n",
    "    Dropout(.2),\n",
    "    Dense(10, 1, activation=False)\n",
    "]\n",
    "\n",
    "sgd = SGDW(1e-3, 5e-4)\n",
    "# Weight decay and dropout\n",
    "training_run(4, \"Early Stopping\", layers_early, sgd, train_data, valid_data, name=\"early_stopping\")\n",
    "sgd.plot_final_weights()"
   ]
  },
  {
   "cell_type": "code",
   "execution_count": 16,
   "id": "62e7359c-7929-4087-8ee9-6a2664ede4b4",
   "metadata": {},
   "outputs": [
    {
     "name": "stdout",
     "output_type": "stream",
     "text": [
      "SGDW + Dropout: 13.244365053084683\n",
      "SGDW + Dropout + Early Stopping: 15.488170569363836\n"
     ]
    }
   ],
   "source": [
    "print(f\"SGDW + Dropout: {test_loss(layers_dropout, test_data)}\")\n",
    "print(f\"SGDW + Dropout + Early Stopping: {test_loss(layers_early, test_data)}\")"
   ]
  },
  {
   "cell_type": "code",
   "execution_count": 17,
   "id": "6a4d2644-bcda-41fe-bf72-ae18163713f1",
   "metadata": {},
   "outputs": [],
   "source": [
    "class DenseResidualConnection(Dense):\n",
    "    \"\"\"\n",
    "    Dense layer with a residual connection\n",
    "    \"\"\"\n",
    "    def forward(self, x):\n",
    "        output = super().forward(x)\n",
    "        return x + output # Sum input with output\n",
    "\n",
    "    def backward(self, grad):\n",
    "        param_grads, out_grad = super().backward(grad)\n",
    "        # Sum incoming gradient with calculated gradient\n",
    "        return param_grads, grad + out_grad"
   ]
  },
  {
   "cell_type": "code",
   "execution_count": 18,
   "id": "2a4a0bec-567f-40f9-83a8-b319b2d543e0",
   "metadata": {},
   "outputs": [
    {
     "data": {
      "image/png": "[encoded data removed]",
      "text/plain": [
       "<Figure size 640x480 with 1 Axes>"
      ]
     },
     "metadata": {},
     "output_type": "display_data"
    }
   ],
   "source": [
    "layers_resid = [\n",
    "    Dense(7, 10),\n",
    "    DenseResidualConnection(10, 10),\n",
    "    Dropout(.2),\n",
    "    Dense(10, 1, activation=False)\n",
    "]\n",
    "\n",
    "sgd = SGDW(1e-4, 5e-4)\n",
    "# Weight decay and dropout\n",
    "training_run(10, \"Residual Connection\", layers_resid, sgd, train_data, valid_data, name=\"residual_connection\")\n",
    "sgd.plot_final_weights()"
   ]
  },
  {
   "cell_type": "code",
   "execution_count": 19,
   "id": "e1129125-94e2-4c55-863c-53d2567ab8ff",
   "metadata": {},
   "outputs": [
    {
     "name": "stdout",
     "output_type": "stream",
     "text": [
      "SGDW + Dropout + Early Stopping: 15.488170569363836\n",
      "Residual Connection: 26.437392861498786\n"
     ]
    }
   ],
   "source": [
    "print(f\"SGDW + Dropout + Early Stopping: {test_loss(layers_early, test_data)}\")\n",
    "print(f\"Residual Connection: {test_loss(layers_resid, test_data)}\")"
   ]
  },
  {
   "cell_type": "code",
   "execution_count": 20,
   "id": "1da95e76-82bd-4687-a984-bb62520ff2f0",
   "metadata": {},
   "outputs": [],
   "source": [
    "class LayerNorm():\n",
    "    def __init__(self, embed_dim, eps):\n",
    "        self.embed_dim = embed_dim\n",
    "        # eps is a parameter added for numerical stability when taking a square root\n",
    "        self.eps = eps\n",
    "\n",
    "    def forward(self, input):\n",
    "        # Cache for backward pass\n",
    "        self.input = input\n",
    "        # Calculate the mean and standard deviation\n",
    "        self.mean = np.sum(input, axis=1, keepdims=True) / self.embed_dim\n",
    "        self.normed = (input - self.mean)\n",
    "        variance = np.sum(self.normed**2, axis=1, keepdims=True) / self.embed_dim\n",
    "        self.std = np.sqrt(variance + self.eps)\n",
    "        inverse_std = 1 / self.std\n",
    "        # Normalize the input\n",
    "        self.output = self.normed * inverse_std\n",
    "        return self.output\n",
    "\n",
    "    def backward(self, grad):\n",
    "        \"\"\"\n",
    "        This is a long function, but it is just \"undoing\" the forward pass\n",
    "        \"\"\"\n",
    "        # Find the derivative of numerator (normed)\n",
    "        # Grad times inverse standard deviation\n",
    "        grad_normed_1 = grad * 1 / self.std\n",
    "\n",
    "        # Derivative of denominator (std)\n",
    "        grad_std = grad * self.normed\n",
    "        # std is a single number\n",
    "        grad_std = np.sum(grad_std, axis=1, keepdims=True)\n",
    "        # Derivative of 1 / std\n",
    "        grad_std = grad_std * -1 / (self.std**2)\n",
    "\n",
    "        # Find gradient against the variance\n",
    "        grad_variance = grad_std * .5 * 1 / self.std\n",
    "\n",
    "        # Find gradient against normed\n",
    "        grad_normed_2 = grad_variance * 1 / self.embed_dim\n",
    "        grad_normed_2 = np.ones_like(self.normed, dtype=self.input.dtype) * grad_normed_2\n",
    "        grad_normed_2 = grad_normed_2 * 2 * self.normed\n",
    "\n",
    "        # Combine two gradients against normed\n",
    "        grad_normed = grad_normed_1 + grad_normed_2\n",
    "\n",
    "        # Find gradient against mean\n",
    "        grad_mean = grad_normed * -1\n",
    "        grad_mean = np.sum(grad_mean, axis=1, keepdims=True)\n",
    "\n",
    "        # Find gradient against input\n",
    "        grad_input_1 = grad_normed\n",
    "        grad_input_2 =  grad_mean * 1 / self.embed_dim\n",
    "        grad_input_2 = grad_input_2 * np.ones_like(self.input, dtype=self.input.dtype)\n",
    "\n",
    "        # Combine two gradients against input\n",
    "        grad_input = grad_input_1 + grad_input_2\n",
    "        return None, grad_input"
   ]
  },
  {
   "cell_type": "code",
   "execution_count": 21,
   "id": "0a8cd382-8af8-481a-a08e-b8f0c5df99ea",
   "metadata": {},
   "outputs": [],
   "source": [
    "class LayerNormAnalytic(LayerNorm):\n",
    "    def backward(self, grad):\n",
    "        y_sum = np.sum(grad, axis=1, keepdims=True)\n",
    "        N = 1 / self.embed_dim\n",
    "        c1 = N * np.sum(self.output * grad, axis=1, keepdims=True)\n",
    "        c2 = N * y_sum\n",
    "        return None, 1/self.std * (grad - c1 * self.output - c2)"
   ]
  },
  {
   "cell_type": "code",
   "execution_count": 22,
   "id": "3d3df16f-c9a6-4966-9883-bb838b194490",
   "metadata": {},
   "outputs": [
    {
     "data": {
      "image/png": "[encoded data removed]",
      "text/plain": [
       "<Figure size 640x480 with 1 Axes>"
      ]
     },
     "metadata": {},
     "output_type": "display_data"
    }
   ],
   "source": [
    "layers_ln = [\n",
    "    Dense(7, 10),\n",
    "    DenseResidualConnection(10, 10),\n",
    "    LayerNorm(10, 1e-6),\n",
    "    Dropout(.2),\n",
    "    Dense(10, 1, activation=False)\n",
    "]\n",
    "\n",
    "sgd = SGDW(1e-3, 1e-4)\n",
    "# Weight decay and dropout\n",
    "training_run(25, \"Layer Norm\", layers_ln, sgd, train_data, valid_data, name=\"layer_norm\")\n",
    "sgd.plot_final_weights()"
   ]
  },
  {
   "cell_type": "code",
   "execution_count": 23,
   "id": "860281d3-ace1-4920-ae90-19d242fc5330",
   "metadata": {},
   "outputs": [
    {
     "name": "stdout",
     "output_type": "stream",
     "text": [
      "SGDW + Residual Connection: 26.437392861498786\n",
      "SGDW + Residual Connection + LayerNorm: 433.91279386238244\n"
     ]
    }
   ],
   "source": [
    "print(f\"SGDW + Residual Connection: {test_loss(layers_resid, test_data)}\")\n",
    "print(f\"SGDW + Residual Connection + LayerNorm: {test_loss(layers_ln, test_data)}\")"
   ]
  }
 ],
 "metadata": {
  "kernelspec": {
   "display_name": "Python 3 (ipykernel)",
   "language": "python",
   "name": "python3"
  },
  "language_info": {
   "codemirror_mode": {
    "name": "ipython",
    "version": 3
   },
   "file_extension": ".py",
   "mimetype": "text/x-python",
   "name": "python",
   "nbconvert_exporter": "python",
   "pygments_lexer": "ipython3",
   "version": "3.12.1"
  }
 },
 "nbformat": 4,
 "nbformat_minor": 5
}
