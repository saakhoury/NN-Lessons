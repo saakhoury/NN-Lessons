{
 "cells": [
  {
   "cell_type": "code",
   "execution_count": 41,
   "id": "c5bfd29d-688f-45af-a8c7-bef7e06d8db6",
   "metadata": {},
   "outputs": [],
   "source": [
    "# BACKPROPAGATION - how do gradients flow through the backwards pass in the computational graph "
   ]
  },
  {
   "cell_type": "code",
   "execution_count": 42,
   "id": "b61140e1-91ac-4fb0-a04a-3ac39561f8cb",
   "metadata": {},
   "outputs": [],
   "source": [
    "# will use the softmax function -- take an input array and raise e to power of each item in the input array and divide by the sum \n",
    "# give you outputs between 0 to 1 and gives a sum of 1 "
   ]
  },
  {
   "cell_type": "code",
   "execution_count": 93,
   "id": "517e642d-e7a3-4c68-9641-c089950fd388",
   "metadata": {},
   "outputs": [],
   "source": [
    "import numpy as np \n",
    "\n",
    "def softmax_func(normalized):\n",
    "    raised = np.exp(normalized)\n",
    "    output = raised / np.sum(raised, axis=1).reshape(-1,1)\n",
    "    return output"
   ]
  },
  {
   "cell_type": "code",
   "execution_count": 94,
   "id": "7acae6b4-9027-451c-b0b9-46d8da01258b",
   "metadata": {},
   "outputs": [],
   "source": [
    "x = np.random.rand(5,3) #corresponding to the last layer\n",
    "\n",
    "y = np.zeros_like(x)\n",
    "inds = (np.arange(0,y.shape[0]), np.random.randint(0, 3, size=y.shape[0]))\n",
    "y[inds] = 1"
   ]
  },
  {
   "cell_type": "code",
   "execution_count": 95,
   "id": "abd653b9-0e3d-431e-a0d6-f44ebf56b28a",
   "metadata": {},
   "outputs": [
    {
     "data": {
      "text/plain": [
       "array([[0.87525341, 0.89397031, 0.9109804 ],\n",
       "       [0.08818043, 0.45584754, 0.52452548],\n",
       "       [0.22001135, 0.20052407, 0.33348295],\n",
       "       [0.8933896 , 0.43800177, 0.2005074 ],\n",
       "       [0.40869798, 0.06433104, 0.69311554]])"
      ]
     },
     "execution_count": 95,
     "metadata": {},
     "output_type": "execute_result"
    }
   ],
   "source": [
    "x"
   ]
  },
  {
   "cell_type": "code",
   "execution_count": 96,
   "id": "c4843279-dc5c-4f89-b95a-029f1c801e62",
   "metadata": {},
   "outputs": [
    {
     "data": {
      "text/plain": [
       "array([[0., 0., 1.],\n",
       "       [0., 1., 0.],\n",
       "       [0., 1., 0.],\n",
       "       [0., 0., 1.],\n",
       "       [0., 0., 1.]])"
      ]
     },
     "execution_count": 96,
     "metadata": {},
     "output_type": "execute_result"
    }
   ],
   "source": [
    "y"
   ]
  },
  {
   "cell_type": "code",
   "execution_count": 97,
   "id": "07f370bc-9340-4159-9530-c6056374ef55",
   "metadata": {},
   "outputs": [
    {
     "data": {
      "text/plain": [
       "array([[-0.03572699, -0.01701009,  0.        ],\n",
       "       [-0.43634505, -0.06867795,  0.        ],\n",
       "       [-0.1134716 , -0.13295888,  0.        ],\n",
       "       [ 0.        , -0.45538782, -0.6928822 ],\n",
       "       [-0.28441756, -0.6287845 ,  0.        ]])"
      ]
     },
     "execution_count": 97,
     "metadata": {},
     "output_type": "execute_result"
    }
   ],
   "source": [
    "normalized = x - np.max(x, axis=-1).reshape(-1,1)\n",
    "\n",
    "normalized"
   ]
  },
  {
   "cell_type": "code",
   "execution_count": 98,
   "id": "d6a12f42-bb8d-452a-83b4-2d8fda5074c0",
   "metadata": {},
   "outputs": [
    {
     "data": {
      "text/plain": [
       "array([[0.32730374, 0.33348754, 0.33920872],\n",
       "       [0.25053843, 0.36186797, 0.3875936 ],\n",
       "       [0.32249103, 0.31626739, 0.36124158],\n",
       "       [0.46853013, 0.29714273, 0.23432715],\n",
       "       [0.32920114, 0.23329459, 0.43750428]])"
      ]
     },
     "execution_count": 98,
     "metadata": {},
     "output_type": "execute_result"
    }
   ],
   "source": [
    "softmax_func(normalized)"
   ]
  },
  {
   "cell_type": "code",
   "execution_count": 99,
   "id": "9e6a810c-19c7-4777-91ab-0f234b2a5254",
   "metadata": {},
   "outputs": [
    {
     "data": {
      "text/plain": [
       "65500.0"
      ]
     },
     "execution_count": 99,
     "metadata": {},
     "output_type": "execute_result"
    }
   ],
   "source": [
    "np.finfo('float16').max"
   ]
  },
  {
   "cell_type": "code",
   "execution_count": 100,
   "id": "e1fdc1f8-8fd2-4ac3-a404-32f81d308457",
   "metadata": {},
   "outputs": [
    {
     "name": "stderr",
     "output_type": "stream",
     "text": [
      "/var/folders/mz/9zwpzjqs6m35hjp757412fjh0000gn/T/ipykernel_7271/2494835637.py:3: RuntimeWarning: overflow encountered in cast\n",
      "  a[0] = 6.55e50\n"
     ]
    }
   ],
   "source": [
    "a = np.array([0], dtype=np.float16)\n",
    "\n",
    "a[0] = 6.55e50"
   ]
  },
  {
   "cell_type": "code",
   "execution_count": 101,
   "id": "4ef96ebe-15e8-43d5-9077-42a104a76c48",
   "metadata": {},
   "outputs": [
    {
     "data": {
      "text/plain": [
       "array([inf], dtype=float16)"
      ]
     },
     "execution_count": 101,
     "metadata": {},
     "output_type": "execute_result"
    }
   ],
   "source": [
    "a"
   ]
  },
  {
   "cell_type": "code",
   "execution_count": 102,
   "id": "2c7b1e8a-7c2a-489a-8224-778e866ebdac",
   "metadata": {},
   "outputs": [],
   "source": [
    "#STAGED SOFTMAX FORWARD PASS"
   ]
  },
  {
   "cell_type": "markdown",
   "id": "e8abaa5b-808a-494c-94d3-7a4b13792d7f",
   "metadata": {},
   "source": [
    "- Exp - we raise e to the power x.\n",
    "- Sum - we add up the $e^x$ values for each row.\n",
    "- Divide - we divide the $e^x$ values by the sums."
   ]
  },
  {
   "cell_type": "code",
   "execution_count": 103,
   "id": "ca593722-7519-4659-8394-ece73508e4e7",
   "metadata": {},
   "outputs": [
    {
     "data": {
      "text/plain": [
       "0.25"
      ]
     },
     "execution_count": 103,
     "metadata": {},
     "output_type": "execute_result"
    }
   ],
   "source": [
    "5 / 4\n",
    "\n",
    "5 * 1/4\n",
    "\n",
    "1/4\n",
    "\n",
    "4**-1"
   ]
  },
  {
   "cell_type": "markdown",
   "id": "b90f8a79-d2eb-4f57-8727-7ddc74f0cc5d",
   "metadata": {},
   "source": [
    "- Exp\n",
    "- Sum\n",
    "- Pow - we invert the sum by raising to the power -1\n",
    "- Multiply - we multiply the inverted sum and the exp values"
   ]
  },
  {
   "cell_type": "code",
   "execution_count": 104,
   "id": "a79129a3-b97c-4738-b0ae-e08c75a12e3d",
   "metadata": {},
   "outputs": [],
   "source": [
    "raised = np.exp(x) #step 1\n",
    "summed = np.sum(raised, axis=-1).reshape(-1,1) #step 2. reshape so each row has 1 column.\n",
    "pow = summed ** -1 #step 3\n",
    "staged_softmax = raised * pow #step 4"
   ]
  },
  {
   "cell_type": "code",
   "execution_count": 105,
   "id": "356f98c8-9fb0-4011-b9b6-63a39fd42c45",
   "metadata": {},
   "outputs": [
    {
     "data": {
      "text/plain": [
       "array([[0.32730374, 0.33348754, 0.33920872],\n",
       "       [0.25053843, 0.36186797, 0.3875936 ],\n",
       "       [0.32249103, 0.31626739, 0.36124158],\n",
       "       [0.46853013, 0.29714273, 0.23432715],\n",
       "       [0.32920114, 0.23329459, 0.43750428]])"
      ]
     },
     "execution_count": 105,
     "metadata": {},
     "output_type": "execute_result"
    }
   ],
   "source": [
    "staged_softmax"
   ]
  },
  {
   "cell_type": "code",
   "execution_count": 106,
   "id": "4b7a8659-3c58-4d80-a6e7-dc760d3f5caf",
   "metadata": {},
   "outputs": [],
   "source": [
    "#STAGED SOFTMAX BACKWARD PASS"
   ]
  },
  {
   "cell_type": "code",
   "execution_count": 107,
   "id": "39787c50-e355-41db-8d75-c9b91f2c3b95",
   "metadata": {},
   "outputs": [],
   "source": [
    "#REVERSE THE STAGE SOFTMAX AND COMPUTE THE GRADIENT"
   ]
  },
  {
   "cell_type": "markdown",
   "id": "fed9e4c4-053e-4a68-8a0c-cf976a06bdbd",
   "metadata": {},
   "source": [
    "1. Start at the final step. Take in the loss gradient as the input, and multiply by the derivative of the final step.\n",
    "2. Pass the gradient to the previous operation\n",
    "3. Continue calculating the derivative of each operation, and multiplying by the gradient. Note that `Exp` is input to two operations, so it will sum both gradients.\n",
    "4. Continue until we reach the first operation."
   ]
  },
  {
   "cell_type": "markdown",
   "id": "0a993d21-d9a0-4f64-8a43-e992b83208ff",
   "metadata": {},
   "source": [
    "$NLL = -\\sum_{i=0} y_{i} \\log p_{i}$"
   ]
  },
  {
   "cell_type": "markdown",
   "id": "cb76b5d8-f181-48c3-badd-3f5a6a111108",
   "metadata": {},
   "source": [
    "* $\\log p_{i}$ - the derivative of a natural log (base e) is $\\frac{1}{p_{i}}$\n",
    "* $-y_{i} * \\log p_{i}$ - the derivative wrt p is $-y_{i}$"
   ]
  },
  {
   "cell_type": "markdown",
   "id": "0ce07dcc-8f12-41ab-b8c2-7085f9adf7ad",
   "metadata": {},
   "source": [
    "$\\frac{1}{p} * -y_{i} = \\frac{-y_{i}}{p_{i}}$"
   ]
  },
  {
   "cell_type": "markdown",
   "id": "18efb5af-5560-402f-9c83-25014274b61c",
   "metadata": {},
   "source": [
    "$\\frac{\\partial L}{\\partial p}$"
   ]
  },
  {
   "cell_type": "code",
   "execution_count": 110,
   "id": "891472dc-08d1-4af9-bd27-8cfa808aa4b6",
   "metadata": {},
   "outputs": [],
   "source": [
    "def nll_grad(y, pred):\n",
    "    return -1 * y / pred\n",
    "\n",
    "loss_grad = nll_grad(y, staged_softmax)"
   ]
  },
  {
   "cell_type": "code",
   "execution_count": 111,
   "id": "81fc3740-5539-4068-938e-d17ce6600551",
   "metadata": {},
   "outputs": [
    {
     "data": {
      "text/plain": [
       "array([[-0.        , -0.        , -2.94803745],\n",
       "       [-0.        , -2.76343883, -0.        ],\n",
       "       [-0.        , -3.16188143, -0.        ],\n",
       "       [-0.        , -0.        , -4.26753798],\n",
       "       [-0.        , -0.        , -2.28569195]])"
      ]
     },
     "execution_count": 111,
     "metadata": {},
     "output_type": "execute_result"
    }
   ],
   "source": [
    "loss_grad"
   ]
  },
  {
   "cell_type": "markdown",
   "id": "b81da408-4cec-4dcc-a489-8f5650dbb641",
   "metadata": {},
   "source": [
    "- Exp - the derivative of $e^x$ is $e^x$\n",
    "- Sum - since a sum operation will combine input elements into one, we just distribute the gradient over all input elements. A change to any of the input elements will have a direct impact on the output. \n",
    "- Pow - the derivative of $x^{-1}$ is -1 * $x^{-2}$.\n",
    "- Multiply - the derivatives of $x*y$ are $y$ wrt to $x$ wrt $y$. This is because any change to $x$ is multiplied by $y$, and vice versa. Thus the rate of change of $x$ is $y$, and vice versa."
   ]
  },
  {
   "cell_type": "code",
   "execution_count": 112,
   "id": "455990ff-0f62-49ff-be8e-959e9bc5d313",
   "metadata": {},
   "outputs": [],
   "source": [
    "raised = np.exp(x) #step 1\n",
    "summed = np.sum(raised, axis=-1).reshape(-1,1) #step 2. reshape so each row has 1 column.\n",
    "pow = summed ** -1 #step 3\n",
    "staged_softmax = raised * pow #step 4"
   ]
  },
  {
   "cell_type": "code",
   "execution_count": 114,
   "id": "5f7a312b-6721-45d6-bdc1-ae8609c65d5e",
   "metadata": {},
   "outputs": [],
   "source": [
    "raised_grad = loss_grad * pow\n",
    "\n",
    "pow_grad = loss_grad * raised\n",
    "pow_grad = np.sum(pow_grad, axis=-1).reshape(-1,1) #reshape gradient to match input data \n",
    "\n",
    "summed_grad = (-1 * summed ** -2) * pow_grad\n",
    "\n",
    "raised_grad_2 = np.ones_like(raised) * summed_grad #distribute gradient across inputs \n",
    "\n",
    "raised_grad += raised_grad_2 #sum incoming gradients \n",
    "staged_softmax_grad = raised_grad * np.exp(x)"
   ]
  },
  {
   "cell_type": "code",
   "execution_count": 115,
   "id": "7a46a37c-f03b-4d13-87a0-9f91a4d7d179",
   "metadata": {},
   "outputs": [
    {
     "data": {
      "text/plain": [
       "array([[ 0.32730374,  0.33348754, -0.66079128],\n",
       "       [ 0.25053843, -0.63813203,  0.3875936 ],\n",
       "       [ 0.32249103, -0.68373261,  0.36124158],\n",
       "       [ 0.46853013,  0.29714273, -0.76567285],\n",
       "       [ 0.32920114,  0.23329459, -0.56249572]])"
      ]
     },
     "execution_count": 115,
     "metadata": {},
     "output_type": "execute_result"
    }
   ],
   "source": [
    "staged_softmax_grad"
   ]
  },
  {
   "cell_type": "code",
   "execution_count": 116,
   "id": "45684dba-e98a-42a1-a57b-88e5d0571ca9",
   "metadata": {},
   "outputs": [],
   "source": [
    "#ANALYTIC SOFTMAX"
   ]
  },
  {
   "cell_type": "markdown",
   "id": "8bcf608d-116a-4f40-a82e-eb32d00568a7",
   "metadata": {},
   "source": [
    "$S_{i}((i==j) - S_{j})$"
   ]
  },
  {
   "cell_type": "markdown",
   "id": "3c17746d-8836-4b59-848d-b9e92479e81c",
   "metadata": {},
   "source": [
    "[0.28, 0.25, 0.47]\n",
    ".28\n",
    "0,0 .28 * (1 - .28)\n",
    "0,1 .28 * (0 - .25)"
   ]
  },
  {
   "cell_type": "code",
   "execution_count": 119,
   "id": "36bebc1a-83b8-40b4-86d7-399af0735e4c",
   "metadata": {},
   "outputs": [],
   "source": [
    "def softmax_grad_func(softmax, loss_grad):\n",
    "    output = np.zeros_like(softmax)\n",
    "    for i in range(softmax.shape[0]):\n",
    "        sm_row = softmax[i,:]\n",
    "        sm_grad = (-np.outer(sm_row, sm_row) + np.diag(sm_row.flatten()))\n",
    "        row_grad = sm_grad * loss_grad[i,:].reshape(1,-1)\n",
    "        output[i,:] = np.sum(row_grad, -1)\n",
    "    return output"
   ]
  },
  {
   "cell_type": "code",
   "execution_count": 120,
   "id": "8b0c00c3-2bdf-4827-b601-3084356f6d33",
   "metadata": {},
   "outputs": [
    {
     "data": {
      "text/plain": [
       "array([[ 0.32730374,  0.33348754, -0.66079128],\n",
       "       [ 0.25053843, -0.63813203,  0.3875936 ],\n",
       "       [ 0.32249103, -0.68373261,  0.36124158],\n",
       "       [ 0.46853013,  0.29714273, -0.76567285],\n",
       "       [ 0.32920114,  0.23329459, -0.56249572]])"
      ]
     },
     "execution_count": 120,
     "metadata": {},
     "output_type": "execute_result"
    }
   ],
   "source": [
    "derived_softmax_grad = softmax_grad_func(staged_softmax, loss_grad)\n",
    "derived_softmax_grad"
   ]
  },
  {
   "cell_type": "code",
   "execution_count": 121,
   "id": "e05977ee-3608-4f29-b885-58fe7bcb1945",
   "metadata": {},
   "outputs": [
    {
     "data": {
      "text/plain": [
       "True"
      ]
     },
     "execution_count": 121,
     "metadata": {},
     "output_type": "execute_result"
    }
   ],
   "source": [
    "np.allclose(derived_softmax_grad, staged_softmax_grad)"
   ]
  },
  {
   "cell_type": "code",
   "execution_count": null,
   "id": "11b901eb-800b-4a3e-ae18-55e236f09b1c",
   "metadata": {},
   "outputs": [],
   "source": [
    "NLL(softmax(x), y)\n",
    "softmax(x) - y"
   ]
  },
  {
   "cell_type": "code",
   "execution_count": 124,
   "id": "52b17b42-63b5-40ed-b15f-2c7e7dd42725",
   "metadata": {},
   "outputs": [
    {
     "data": {
      "text/plain": [
       "True"
      ]
     },
     "execution_count": 124,
     "metadata": {},
     "output_type": "execute_result"
    }
   ],
   "source": [
    "np.allclose(staged_softmax_grad, staged_softmax - y)"
   ]
  },
  {
   "cell_type": "code",
   "execution_count": 125,
   "id": "39578598-5e87-4069-aea2-bf7bfb820787",
   "metadata": {},
   "outputs": [],
   "source": [
    "#SOFTMAX COMPUTATIONAL GRAPH"
   ]
  },
  {
   "cell_type": "markdown",
   "id": "038ec3e2-6414-4389-88a8-3e010470071a",
   "metadata": {},
   "source": [
    "- `apply_fwd` - runs the forward pass up to the node it is called on.\n",
    "- `apply_bwd` - runs the backward pass from the nose it is called on backwards.\n",
    "- `zero_grad` - zero out our gradient before running a backward pass.\n",
    "- `generate_graph` - helps us visualize the computational graph.\n",
    "- `generate_derivative_chains` - shows us the equation for calculating the partial derivative at a node."
   ]
  },
  {
   "cell_type": "code",
   "execution_count": 157,
   "id": "ab7467c8-f008-4757-ae82-fbb50988cddd",
   "metadata": {},
   "outputs": [],
   "source": [
    "import sys, os\n",
    "\n",
    "# Get the absolute path to the directory containing graph.py\n",
    "module_path = os.path.abspath(\"/Users/sanskritiakhoury/Desktop/machine learning/Backpropagation\")\n",
    "\n",
    "# Append this directory to the system path\n",
    "sys.path.append(module_path)\n",
    "\n",
    "# Now you can import the graph module\n",
    "from graph import Node, Parameter, display_chain\n",
    "\n",
    "# Further code here\n",
    "\n",
    "class Exp(Node):\n",
    "    def forward(self, x):\n",
    "        return np.exp(x) # raise e to the power x\n",
    "\n",
    "    def backward(self, grad):\n",
    "        x = self.cache[0] # Pull the x value used in the forward pass\n",
    "        return np.exp(x) * grad # multiply the incoming gradient by the derivative\n",
    "\n",
    "class Sum(Node):\n",
    "    def forward(self, x):\n",
    "        return np.sum(x, axis=-1).reshape(-1,1)\n",
    "\n",
    "    def backward(self, grad):\n",
    "        x = self.cache[0] # Pull the x value used in the forward pass\n",
    "        return np.ones_like(x) * grad # distribute the gradient over the input data shape\n",
    "\n",
    "class Pow(Node):\n",
    "    def forward(self, x, exponent):\n",
    "        return x ** exponent\n",
    "\n",
    "    def backward(self, grad):\n",
    "        x, exponent = self.cache # Pull the x and exponent values used in the forward pass\n",
    "        return grad * exponent * x ** (exponent - 1), 1\n",
    "\n",
    "class Multiply(Node):\n",
    "    def forward(self, x, y):\n",
    "        return x * y\n",
    "\n",
    "    def backward(self, grad):\n",
    "        x, y = self.cache # Pull the x and y values used in the forward pass\n",
    "        return grad * y, grad * x"
   ]
  },
  {
   "cell_type": "code",
   "execution_count": 159,
   "id": "9d1565db-1b57-43f6-85bd-6cc48e57dedf",
   "metadata": {},
   "outputs": [],
   "source": [
    "X = Parameter(x, desc=\"X\", needs_grad=True)\n",
    "\n",
    "raised = Exp(X, out=\"e^X\")\n",
    "summed = Sum(raised, out=\"sum(e^X)\")\n",
    "\n",
    "negative_one = Parameter(-1, desc=\"-1\", needs_grad=False)\n",
    "\n",
    "inverted = Pow(summed, negative_one, out=\"1/sum(e^X)\")\n",
    "\n",
    "softmax = Multiply(raised, inverted, out=\"softmax(X)\")"
   ]
  },
  {
   "cell_type": "code",
   "execution_count": 160,
   "id": "2ca41217-ab66-430b-ab03-5cd2a06c3238",
   "metadata": {},
   "outputs": [
    {
     "data": {
      "image/svg+xml": [
       "<?xml version=\"1.0\" encoding=\"UTF-8\" standalone=\"no\"?>\n",
       "<!DOCTYPE svg PUBLIC \"-//W3C//DTD SVG 1.1//EN\"\n",
       " \"http://www.w3.org/Graphics/SVG/1.1/DTD/svg11.dtd\">\n",
       "<!-- Generated by graphviz version 11.0.0 (20240428.1522)\n",
       " -->\n",
       "<!-- Title: fwd_pass Pages: 1 -->\n",
       "<svg width=\"611pt\" height=\"128pt\"\n",
       " viewBox=\"0.00 0.00 610.83 128.00\" xmlns=\"http://www.w3.org/2000/svg\" xmlns:xlink=\"http://www.w3.org/1999/xlink\">\n",
       "<g id=\"graph0\" class=\"graph\" transform=\"scale(1 1) rotate(0) translate(4 124)\">\n",
       "<title>fwd_pass</title>\n",
       "<polygon fill=\"white\" stroke=\"none\" points=\"-4,4 -4,-124 606.83,-124 606.83,4 -4,4\"/>\n",
       "<!-- 5251584448 -->\n",
       "<g id=\"node1\" class=\"node\">\n",
       "<title>5251584448</title>\n",
       "<ellipse fill=\"none\" stroke=\"black\" cx=\"559.16\" cy=\"-18\" rx=\"43.67\" ry=\"18\"/>\n",
       "<text text-anchor=\"middle\" x=\"559.16\" y=\"-12.95\" font-family=\"Times,serif\" font-size=\"14.00\">Multiply</text>\n",
       "</g>\n",
       "<!-- 5251582096 -->\n",
       "<g id=\"node2\" class=\"node\">\n",
       "<title>5251582096</title>\n",
       "<ellipse fill=\"none\" stroke=\"black\" cx=\"126.75\" cy=\"-18\" rx=\"27\" ry=\"18\"/>\n",
       "<text text-anchor=\"middle\" x=\"126.75\" y=\"-12.95\" font-family=\"Times,serif\" font-size=\"14.00\">Exp</text>\n",
       "</g>\n",
       "<!-- 5251582096&#45;&gt;5251584448 -->\n",
       "<g id=\"edge2\" class=\"edge\">\n",
       "<title>5251582096&#45;&gt;5251584448</title>\n",
       "<path fill=\"none\" stroke=\"black\" d=\"M154.03,-18C222.99,-18 410.26,-18 503.66,-18\"/>\n",
       "<polygon fill=\"black\" stroke=\"black\" points=\"503.6,-21.5 513.6,-18 503.6,-14.5 503.6,-21.5\"/>\n",
       "<text text-anchor=\"middle\" x=\"314.27\" y=\"-21.2\" font-family=\"Times,serif\" font-size=\"14.00\">e^X</text>\n",
       "</g>\n",
       "<!-- 5251584736 -->\n",
       "<g id=\"node5\" class=\"node\">\n",
       "<title>5251584736</title>\n",
       "<ellipse fill=\"none\" stroke=\"black\" cx=\"240.57\" cy=\"-102\" rx=\"28.32\" ry=\"18\"/>\n",
       "<text text-anchor=\"middle\" x=\"240.57\" y=\"-96.95\" font-family=\"Times,serif\" font-size=\"14.00\">Sum</text>\n",
       "</g>\n",
       "<!-- 5251582096&#45;&gt;5251584736 -->\n",
       "<g id=\"edge3\" class=\"edge\">\n",
       "<title>5251582096&#45;&gt;5251584736</title>\n",
       "<path fill=\"none\" stroke=\"black\" d=\"M145.22,-31.12C163.23,-44.65 191.54,-65.92 212.45,-81.63\"/>\n",
       "<polygon fill=\"black\" stroke=\"black\" points=\"210.17,-84.29 220.27,-87.5 214.38,-78.7 210.17,-84.29\"/>\n",
       "<text text-anchor=\"middle\" x=\"183\" y=\"-70.2\" font-family=\"Times,serif\" font-size=\"14.00\">e^X</text>\n",
       "</g>\n",
       "<!-- 5251584112 -->\n",
       "<g id=\"node3\" class=\"node\">\n",
       "<title>5251584112</title>\n",
       "<ellipse fill=\"none\" stroke=\"black\" cx=\"27\" cy=\"-18\" rx=\"27\" ry=\"18\"/>\n",
       "<text text-anchor=\"middle\" x=\"27\" y=\"-12.95\" font-family=\"Times,serif\" font-size=\"14.00\">X</text>\n",
       "</g>\n",
       "<!-- 5251584112&#45;&gt;5251582096 -->\n",
       "<g id=\"edge1\" class=\"edge\">\n",
       "<title>5251584112&#45;&gt;5251582096</title>\n",
       "<path fill=\"none\" stroke=\"black\" d=\"M54.45,-18C64.78,-18 76.8,-18 88.01,-18\"/>\n",
       "<polygon fill=\"black\" stroke=\"black\" points=\"87.76,-21.5 97.76,-18 87.76,-14.5 87.76,-21.5\"/>\n",
       "<text text-anchor=\"middle\" x=\"76.88\" y=\"-21.2\" font-family=\"Times,serif\" font-size=\"14.00\">X</text>\n",
       "</g>\n",
       "<!-- 5251581232 -->\n",
       "<g id=\"node4\" class=\"node\">\n",
       "<title>5251581232</title>\n",
       "<ellipse fill=\"none\" stroke=\"black\" cx=\"386.94\" cy=\"-48\" rx=\"27.3\" ry=\"18\"/>\n",
       "<text text-anchor=\"middle\" x=\"386.94\" y=\"-42.95\" font-family=\"Times,serif\" font-size=\"14.00\">Pow</text>\n",
       "</g>\n",
       "<!-- 5251581232&#45;&gt;5251584448 -->\n",
       "<g id=\"edge6\" class=\"edge\">\n",
       "<title>5251581232&#45;&gt;5251584448</title>\n",
       "<path fill=\"none\" stroke=\"black\" d=\"M413.79,-43.44C438.56,-39.08 476.61,-32.37 507.44,-26.94\"/>\n",
       "<polygon fill=\"black\" stroke=\"black\" points=\"507.7,-30.45 516.94,-25.26 506.48,-23.55 507.7,-30.45\"/>\n",
       "<text text-anchor=\"middle\" x=\"464.86\" y=\"-42.2\" font-family=\"Times,serif\" font-size=\"14.00\">1/sum(e^X)</text>\n",
       "</g>\n",
       "<!-- 5251584736&#45;&gt;5251581232 -->\n",
       "<g id=\"edge4\" class=\"edge\">\n",
       "<title>5251584736&#45;&gt;5251581232</title>\n",
       "<path fill=\"none\" stroke=\"black\" d=\"M266.97,-94.58C287.38,-88.39 316.67,-78.99 341.64,-69 345.79,-67.34 350.1,-65.48 354.33,-63.57\"/>\n",
       "<polygon fill=\"black\" stroke=\"black\" points=\"355.59,-66.84 363.17,-59.44 352.63,-60.5 355.59,-66.84\"/>\n",
       "<text text-anchor=\"middle\" x=\"314.27\" y=\"-91.2\" font-family=\"Times,serif\" font-size=\"14.00\">sum(e^X)</text>\n",
       "</g>\n",
       "<!-- 5251584064 -->\n",
       "<g id=\"node6\" class=\"node\">\n",
       "<title>5251584064</title>\n",
       "<ellipse fill=\"none\" stroke=\"black\" cx=\"240.57\" cy=\"-48\" rx=\"27\" ry=\"18\"/>\n",
       "<text text-anchor=\"middle\" x=\"240.57\" y=\"-42.95\" font-family=\"Times,serif\" font-size=\"14.00\">&#45;1</text>\n",
       "</g>\n",
       "<!-- 5251584064&#45;&gt;5251581232 -->\n",
       "<g id=\"edge5\" class=\"edge\">\n",
       "<title>5251584064&#45;&gt;5251581232</title>\n",
       "<path fill=\"none\" stroke=\"black\" d=\"M268.05,-48C290.54,-48 323.08,-48 348.27,-48\"/>\n",
       "<polygon fill=\"black\" stroke=\"black\" points=\"348.11,-51.5 358.11,-48 348.11,-44.5 348.11,-51.5\"/>\n",
       "<text text-anchor=\"middle\" x=\"314.27\" y=\"-51.2\" font-family=\"Times,serif\" font-size=\"14.00\">&#45;1</text>\n",
       "</g>\n",
       "</g>\n",
       "</svg>\n"
      ],
      "text/plain": [
       "<graphviz.graphs.Digraph at 0x138fea750>"
      ]
     },
     "execution_count": 160,
     "metadata": {},
     "output_type": "execute_result"
    }
   ],
   "source": [
    "softmax.generate_graph()"
   ]
  },
  {
   "cell_type": "code",
   "execution_count": 161,
   "id": "2c870cd5-522b-4bed-9c86-b3774b30ec7c",
   "metadata": {},
   "outputs": [],
   "source": [
    "operations_softmax = softmax.apply_fwd()"
   ]
  },
  {
   "cell_type": "code",
   "execution_count": 162,
   "id": "31a40160-5adc-4f69-b71a-be0ed6d214d8",
   "metadata": {},
   "outputs": [
    {
     "data": {
      "text/plain": [
       "True"
      ]
     },
     "execution_count": 162,
     "metadata": {},
     "output_type": "execute_result"
    }
   ],
   "source": [
    "np.allclose(staged_softmax, operations_softmax)"
   ]
  },
  {
   "cell_type": "code",
   "execution_count": 190,
   "id": "2f1225b2-d292-427b-82eb-3c664bed358d",
   "metadata": {},
   "outputs": [
    {
     "data": {
      "image/svg+xml": [
       "<?xml version=\"1.0\" encoding=\"UTF-8\" standalone=\"no\"?>\n",
       "<!DOCTYPE svg PUBLIC \"-//W3C//DTD SVG 1.1//EN\"\n",
       " \"http://www.w3.org/Graphics/SVG/1.1/DTD/svg11.dtd\">\n",
       "<!-- Generated by graphviz version 11.0.0 (20240428.1522)\n",
       " -->\n",
       "<!-- Title: fwd_pass Pages: 1 -->\n",
       "<svg width=\"674pt\" height=\"139pt\"\n",
       " viewBox=\"0.00 0.00 673.83 138.50\" xmlns=\"http://www.w3.org/2000/svg\" xmlns:xlink=\"http://www.w3.org/1999/xlink\">\n",
       "<g id=\"graph0\" class=\"graph\" transform=\"scale(1 1) rotate(0) translate(4 134.5)\">\n",
       "<title>fwd_pass</title>\n",
       "<polygon fill=\"white\" stroke=\"none\" points=\"-4,4 -4,-134.5 669.83,-134.5 669.83,4 -4,4\"/>\n",
       "<!-- 5251584448 -->\n",
       "<g id=\"node1\" class=\"node\">\n",
       "<title>5251584448</title>\n",
       "<ellipse fill=\"none\" stroke=\"black\" cx=\"43.67\" cy=\"-95\" rx=\"43.67\" ry=\"18\"/>\n",
       "<text text-anchor=\"middle\" x=\"43.67\" y=\"-89.95\" font-family=\"Times,serif\" font-size=\"14.00\">Multiply</text>\n",
       "</g>\n",
       "<!-- 5251582096 -->\n",
       "<g id=\"node2\" class=\"node\">\n",
       "<title>5251582096</title>\n",
       "<ellipse fill=\"none\" stroke=\"black\" cx=\"523.33\" cy=\"-95\" rx=\"27\" ry=\"18\"/>\n",
       "<text text-anchor=\"middle\" x=\"523.33\" y=\"-89.95\" font-family=\"Times,serif\" font-size=\"14.00\">Exp</text>\n",
       "</g>\n",
       "<!-- 5251584448&#45;&gt;5251582096 -->\n",
       "<g id=\"edge2\" class=\"edge\">\n",
       "<title>5251584448&#45;&gt;5251582096</title>\n",
       "<path fill=\"none\" stroke=\"red\" d=\"M84.73,-101.79C91.59,-102.71 98.66,-103.51 105.35,-104 270.67,-116.19 313.4,-120.69 478.33,-104 480.85,-103.74 483.44,-103.41 486.04,-103.02\"/>\n",
       "<polygon fill=\"red\" stroke=\"red\" points=\"486.61,-106.47 495.85,-101.29 485.39,-99.58 486.61,-106.47\"/>\n",
       "<text text-anchor=\"middle\" x=\"312.19\" y=\"-117.2\" font-family=\"Times,serif\" font-size=\"14.00\">d(e^X)</text>\n",
       "</g>\n",
       "<!-- 5251581232 -->\n",
       "<g id=\"node4\" class=\"node\">\n",
       "<title>5251581232</title>\n",
       "<ellipse fill=\"none\" stroke=\"black\" cx=\"231.65\" cy=\"-72\" rx=\"27.3\" ry=\"18\"/>\n",
       "<text text-anchor=\"middle\" x=\"231.65\" y=\"-66.95\" font-family=\"Times,serif\" font-size=\"14.00\">Pow</text>\n",
       "</g>\n",
       "<!-- 5251584448&#45;&gt;5251581232 -->\n",
       "<g id=\"edge6\" class=\"edge\">\n",
       "<title>5251584448&#45;&gt;5251581232</title>\n",
       "<path fill=\"none\" stroke=\"red\" d=\"M85.95,-89.9C118.02,-85.93 162.13,-80.47 193.19,-76.63\"/>\n",
       "<polygon fill=\"red\" stroke=\"red\" points=\"193.4,-80.13 202.9,-75.43 192.54,-73.19 193.4,-80.13\"/>\n",
       "<text text-anchor=\"middle\" x=\"145.85\" y=\"-89.2\" font-family=\"Times,serif\" font-size=\"14.00\">d(1/sum(e^X))</text>\n",
       "</g>\n",
       "<!-- 5251584112 -->\n",
       "<g id=\"node3\" class=\"node\">\n",
       "<title>5251584112</title>\n",
       "<ellipse fill=\"none\" stroke=\"black\" cx=\"638.83\" cy=\"-95\" rx=\"27\" ry=\"18\"/>\n",
       "<text text-anchor=\"middle\" x=\"638.83\" y=\"-89.95\" font-family=\"Times,serif\" font-size=\"14.00\">X</text>\n",
       "</g>\n",
       "<!-- 5251582096&#45;&gt;5251584112 -->\n",
       "<g id=\"edge1\" class=\"edge\">\n",
       "<title>5251582096&#45;&gt;5251584112</title>\n",
       "<path fill=\"none\" stroke=\"red\" d=\"M550.66,-95C565.41,-95 584.06,-95 600.32,-95\"/>\n",
       "<polygon fill=\"red\" stroke=\"red\" points=\"600.14,-98.5 610.14,-95 600.14,-91.5 600.14,-98.5\"/>\n",
       "<text text-anchor=\"middle\" x=\"581.08\" y=\"-98.2\" font-family=\"Times,serif\" font-size=\"14.00\">d(X)</text>\n",
       "</g>\n",
       "<!-- 5251584736 -->\n",
       "<g id=\"node5\" class=\"node\">\n",
       "<title>5251584736</title>\n",
       "<ellipse fill=\"none\" stroke=\"black\" cx=\"393.76\" cy=\"-72\" rx=\"28.32\" ry=\"18\"/>\n",
       "<text text-anchor=\"middle\" x=\"393.76\" y=\"-66.95\" font-family=\"Times,serif\" font-size=\"14.00\">Sum</text>\n",
       "</g>\n",
       "<!-- 5251581232&#45;&gt;5251584736 -->\n",
       "<g id=\"edge4\" class=\"edge\">\n",
       "<title>5251581232&#45;&gt;5251584736</title>\n",
       "<path fill=\"none\" stroke=\"red\" d=\"M259.08,-72C284.85,-72 324.32,-72 353.7,-72\"/>\n",
       "<polygon fill=\"red\" stroke=\"red\" points=\"353.69,-75.5 363.69,-72 353.69,-68.5 353.69,-75.5\"/>\n",
       "<text text-anchor=\"middle\" x=\"312.19\" y=\"-75.2\" font-family=\"Times,serif\" font-size=\"14.00\">d(sum(e^X))</text>\n",
       "</g>\n",
       "<!-- 5251584064 -->\n",
       "<g id=\"node6\" class=\"node\">\n",
       "<title>5251584064</title>\n",
       "<ellipse fill=\"none\" stroke=\"black\" cx=\"393.76\" cy=\"-18\" rx=\"27\" ry=\"18\"/>\n",
       "<text text-anchor=\"middle\" x=\"393.76\" y=\"-12.95\" font-family=\"Times,serif\" font-size=\"14.00\">&#45;1</text>\n",
       "</g>\n",
       "<!-- 5251581232&#45;&gt;5251584064 -->\n",
       "<g id=\"edge5\" class=\"edge\">\n",
       "<title>5251581232&#45;&gt;5251584064</title>\n",
       "<path fill=\"none\" stroke=\"red\" d=\"M256.62,-63.92C283.66,-54.8 327.85,-39.89 358.52,-29.55\"/>\n",
       "<polygon fill=\"red\" stroke=\"red\" points=\"359.36,-32.96 367.72,-26.45 357.12,-26.33 359.36,-32.96\"/>\n",
       "</g>\n",
       "<!-- 5251584736&#45;&gt;5251582096 -->\n",
       "<g id=\"edge3\" class=\"edge\">\n",
       "<title>5251584736&#45;&gt;5251582096</title>\n",
       "<path fill=\"none\" stroke=\"red\" d=\"M421.5,-76.82C440.16,-80.18 465.28,-84.71 485.78,-88.41\"/>\n",
       "<polygon fill=\"red\" stroke=\"red\" points=\"484.98,-91.82 495.44,-90.15 486.22,-84.93 484.98,-91.82\"/>\n",
       "<text text-anchor=\"middle\" x=\"459.21\" y=\"-89.2\" font-family=\"Times,serif\" font-size=\"14.00\">d(e^X)</text>\n",
       "</g>\n",
       "</g>\n",
       "</svg>\n"
      ],
      "text/plain": [
       "<graphviz.graphs.Digraph at 0x139109730>"
      ]
     },
     "execution_count": 190,
     "metadata": {},
     "output_type": "execute_result"
    }
   ],
   "source": [
    "softmax.generate_graph(backward=True)"
   ]
  },
  {
   "cell_type": "code",
   "execution_count": 191,
   "id": "90cda78f-e036-46d6-8c85-e4db3e7f4850",
   "metadata": {},
   "outputs": [],
   "source": [
    "softmax.zero_grad()\n",
    "\n",
    "softmax.apply_bwd(loss_grad)\n",
    "\n",
    "operations_softmax_grad = X.grad"
   ]
  },
  {
   "cell_type": "code",
   "execution_count": 192,
   "id": "2fc5391f-d0f6-49ba-bda8-9a4707091a0b",
   "metadata": {},
   "outputs": [
    {
     "data": {
      "text/plain": [
       "True"
      ]
     },
     "execution_count": 192,
     "metadata": {},
     "output_type": "execute_result"
    }
   ],
   "source": [
    "np.allclose(staged_softmax_grad, operations_softmax_grad)"
   ]
  },
  {
   "cell_type": "code",
   "execution_count": 194,
   "id": "6aca99da-2f65-497d-80f5-9079ec461851",
   "metadata": {},
   "outputs": [],
   "source": [
    "#NEURAL NETWORK COMPUTATIONAL GRAPH"
   ]
  },
  {
   "cell_type": "markdown",
   "id": "6cacdbcf-6e5a-4766-bde2-d5330d20d2b4",
   "metadata": {},
   "source": [
    "- `MathMul` - to multiply two matrices. The forward pass is `x@w`.\n",
    "- `Add` - add two values up.\n",
    "- `Relu` - a nonlinear activation function. Anything below `0` will be set to `0`."
   ]
  },
  {
   "cell_type": "code",
   "execution_count": 197,
   "id": "c9caf87f-e414-43cb-ab9b-e70852f613c2",
   "metadata": {},
   "outputs": [],
   "source": [
    "class MatMul(Node):\n",
    "    def forward(self, x, w):\n",
    "        return x @ w # multiply the two matrices.\n",
    "\n",
    "    def backward(self, grad):\n",
    "        x, w = self.cache\n",
    "        # return the input gradient times the weights as the gradient on x\n",
    "        # the input x values (from the forward pass) times the input gradient is the gradient on the weights\n",
    "        return grad @ w.T, x.T @ grad\n",
    "\n",
    "class Add(Node):\n",
    "    def forward(self, x, b):\n",
    "        return x + b\n",
    "\n",
    "    def backward(self, grad):\n",
    "        # Any change to x or b will scale the output the same amount\n",
    "        return grad, grad\n",
    "\n",
    "class Relu(Node):\n",
    "    def forward(self, x):\n",
    "        return np.maximum(x, 0)\n",
    "\n",
    "    def backward(self, grad):\n",
    "        x = self.cache[0]\n",
    "        new_grad = np.array(grad)\n",
    "        # The derivative of relu is 0 when the input\n",
    "        # in the forward pass was below 0\n",
    "        # 1 otherwise\n",
    "        new_grad[x < 0] = 0\n",
    "        return new_grad"
   ]
  },
  {
   "cell_type": "code",
   "execution_count": 198,
   "id": "ca2207c6-0d05-4c2a-8146-caf6ad3a2747",
   "metadata": {},
   "outputs": [],
   "source": [
    "class Softmax(Node):\n",
    "    def forward(self, x):\n",
    "        return softmax_func(x)\n",
    "\n",
    "    def backward(self, grad):\n",
    "        x = self.cache[0]\n",
    "        softmax = self.forward(x)\n",
    "        return softmax_grad_func(softmax, grad)\n",
    "\n",
    "class Dense(Node):\n",
    "    def forward(self, x, w, b):\n",
    "        # Multiply by weight, add bias\n",
    "        return x @ w + b\n",
    "\n",
    "    def backward(self, grad):\n",
    "        x, w, b = self.cache\n",
    "        # Return 3 gradients for x, w, and b\n",
    "        return grad @ w.T, x.T @ grad, grad"
   ]
  },
  {
   "cell_type": "code",
   "execution_count": 204,
   "id": "065b92d4-982f-4a46-8895-bdf33057d149",
   "metadata": {},
   "outputs": [
    {
     "name": "stderr",
     "output_type": "stream",
     "text": [
      "Downloading...\n",
      "From: https://drive.google.com/u/0/uc?id=1gYwg5YyaV3zUX-07bLCol8E0M-uX__zX&export=download\n",
      "To: /Users/sanskritiakhoury/Desktop/machine learning/Backpropagation/skyserver.csv\n",
      "100%|██████████████████████████████████████| 1.39M/1.39M [00:00<00:00, 11.9MB/s]\n",
      "/Users/sanskritiakhoury/Desktop/machine learning/Backpropagation/csv_data.py:163: FutureWarning: Downcasting behavior in `replace` is deprecated and will be removed in a future version. To retain the old behavior, explicitly call `result.infer_objects(copy=False)`. To opt-in to the future behavior, set `pd.set_option('future.no_silent_downcasting', True)`\n",
      "  data[self.target] = data[self.target].replace({\"STAR\": 0, \"GALAXY\": 1, \"QSO\": 2})\n",
      "/Library/Frameworks/Python.framework/Versions/3.12/lib/python3.12/site-packages/numpy/core/fromnumeric.py:59: FutureWarning: 'DataFrame.swapaxes' is deprecated and will be removed in a future version. Please use 'DataFrame.transpose' instead.\n",
      "  return bound(*args, **kwds)\n"
     ]
    }
   ],
   "source": [
    "# Get the absolute path to the directory containing graph.py\n",
    "module_path = os.path.abspath(\"Desktop/machine learning/Backpropagation/csv_data.py\")\n",
    "\n",
    "# Append this directory to the system path\n",
    "sys.path.append(module_path)\n",
    "from csv_data import SkyServerDatasetWrapper\n",
    "\n",
    "# Load the data\n",
    "wrapper = SkyServerDatasetWrapper()\n",
    "[train_x, train_y], [valid_x, valid_y], [test_x, test_y] = wrapper.get_flat_datasets()"
   ]
  },
  {
   "cell_type": "code",
   "execution_count": 205,
   "id": "6a4716f3-bb24-4a0c-8586-05382033dfc6",
   "metadata": {},
   "outputs": [
    {
     "data": {
      "text/plain": [
       "array([[ 0.16745842, -0.58492272,  1.03148637, -0.34855938, -0.83728027,\n",
       "        -0.94605772, -0.99534154, -0.83806089,  0.21085172, -0.21763043,\n",
       "        -0.36973112,  1.03148936,  1.30931064],\n",
       "       [ 0.16886159, -0.58311429,  0.05243046, -0.16653251, -0.15415531,\n",
       "        -0.08264457, -0.02604308, -0.83806089,  0.21085172, -0.21763043,\n",
       "        -0.36984929, -0.63621258, -0.87919741]])"
      ]
     },
     "execution_count": 205,
     "metadata": {},
     "output_type": "execute_result"
    }
   ],
   "source": [
    "train_x[:2]"
   ]
  },
  {
   "cell_type": "markdown",
   "id": "ffd9278f-1362-464e-8f05-e497c3b2ad8b",
   "metadata": {},
   "source": [
    "We then need to one-hot encode our data so that we can use it for classification. We create 3-element vectors where only one element is 1, and the others are 0. The position of the 1 corresponds to the target we want to predict."
   ]
  },
  {
   "cell_type": "code",
   "execution_count": 207,
   "id": "c1fae5cf-54a2-4ec0-ace9-09041f4932cc",
   "metadata": {},
   "outputs": [],
   "source": [
    "def encode(target, max_value=3):\n",
    "    # A matrix with 3 columns\n",
    "    encoded = np.zeros((target.shape[0], max_value))\n",
    "    # Setup the indices that we'll set to one\n",
    "    inds = (np.arange(0,target.shape[0]), target.reshape(-1))\n",
    "    # Set the target positions to 1\n",
    "    encoded[inds] = 1\n",
    "    return encoded\n",
    "\n",
    "train_y = encode(train_y)"
   ]
  },
  {
   "cell_type": "code",
   "execution_count": 208,
   "id": "34164eee-7050-4d68-94cd-b1758124e251",
   "metadata": {},
   "outputs": [
    {
     "data": {
      "text/plain": [
       "array([[1., 0., 0.],\n",
       "       [1., 0., 0.],\n",
       "       [0., 1., 0.],\n",
       "       [1., 0., 0.],\n",
       "       [1., 0., 0.]])"
      ]
     },
     "execution_count": 208,
     "metadata": {},
     "output_type": "execute_result"
    }
   ],
   "source": [
    "train_y[:5]"
   ]
  },
  {
   "cell_type": "code",
   "execution_count": 209,
   "id": "0591aa1b-3489-4e39-8ae1-09dc11d12cde",
   "metadata": {},
   "outputs": [],
   "source": [
    "# Set a seed so we can reproduce results\n",
    "np.random.seed(0)\n",
    "w1 = np.random.rand(13, 10)\n",
    "b1 = np.random.rand(1, 10)\n",
    "w2 = np.random.rand(10, 3)\n",
    "b2 = np.random.rand(1, 3)"
   ]
  },
  {
   "cell_type": "markdown",
   "id": "5c703397-eda8-417b-b4ca-d7c471697468",
   "metadata": {},
   "source": [
    "We can now define our network in code! This is very similar to networks we've built in the past. We have our first layer, with a relu activation, then our second layer, then a softmax to get probabilities:\n"
   ]
  },
  {
   "cell_type": "code",
   "execution_count": 210,
   "id": "235fc5cb-c047-4738-bba6-cef1ea749339",
   "metadata": {},
   "outputs": [],
   "source": [
    "X = Parameter(train_x, desc=\"X\", needs_grad=False)\n",
    "Y = Parameter(train_y, desc=\"y\", needs_grad=False)\n",
    "\n",
    "w1_param = Parameter(w1, desc=\"W1\")\n",
    "b1_param = Parameter(b1, desc=\"b1\")\n",
    "\n",
    "matmul1 = MatMul(X, w1_param, out=\"X @ W1\")\n",
    "add1 = Add(matmul1, b1_param, out=\"Z1\")\n",
    "\n",
    "layer1 = Relu(add1, out=\"A1\")\n",
    "\n",
    "w2_param = Parameter(w2, desc=\"W2\")\n",
    "b2_param = Parameter(b2, desc=\"b2\")\n",
    "matmul2 = MatMul(layer1, w2_param, out=\"Z1 @ W2\")\n",
    "add2 = Add(matmul2, b2_param, out=\"Z2\")\n",
    "\n",
    "softmax = Softmax(add2, out=\"softmax(Z2)\")"
   ]
  },
  {
   "cell_type": "code",
   "execution_count": 211,
   "id": "d99bdb82-f386-48ad-b5f3-955c32ebfbc5",
   "metadata": {},
   "outputs": [
    {
     "data": {
      "image/svg+xml": [
       "<?xml version=\"1.0\" encoding=\"UTF-8\" standalone=\"no\"?>\n",
       "<!DOCTYPE svg PUBLIC \"-//W3C//DTD SVG 1.1//EN\"\n",
       " \"http://www.w3.org/Graphics/SVG/1.1/DTD/svg11.dtd\">\n",
       "<!-- Generated by graphviz version 11.0.0 (20240428.1522)\n",
       " -->\n",
       "<!-- Title: fwd_pass Pages: 1 -->\n",
       "<svg width=\"870pt\" height=\"189pt\"\n",
       " viewBox=\"0.00 0.00 869.75 189.00\" xmlns=\"http://www.w3.org/2000/svg\" xmlns:xlink=\"http://www.w3.org/1999/xlink\">\n",
       "<g id=\"graph0\" class=\"graph\" transform=\"scale(1 1) rotate(0) translate(4 185)\">\n",
       "<title>fwd_pass</title>\n",
       "<polygon fill=\"white\" stroke=\"none\" points=\"-4,4 -4,-185 865.75,-185 865.75,4 -4,4\"/>\n",
       "<!-- 5525056416 -->\n",
       "<g id=\"node1\" class=\"node\">\n",
       "<title>5525056416</title>\n",
       "<ellipse fill=\"none\" stroke=\"black\" cx=\"819.1\" cy=\"-38\" rx=\"42.65\" ry=\"18\"/>\n",
       "<text text-anchor=\"middle\" x=\"819.1\" y=\"-32.95\" font-family=\"Times,serif\" font-size=\"14.00\">Softmax</text>\n",
       "</g>\n",
       "<!-- 5525056368 -->\n",
       "<g id=\"node2\" class=\"node\">\n",
       "<title>5525056368</title>\n",
       "<ellipse fill=\"none\" stroke=\"black\" cx=\"698.45\" cy=\"-38\" rx=\"27\" ry=\"18\"/>\n",
       "<text text-anchor=\"middle\" x=\"698.45\" y=\"-32.95\" font-family=\"Times,serif\" font-size=\"14.00\">Add</text>\n",
       "</g>\n",
       "<!-- 5525056368&#45;&gt;5525056416 -->\n",
       "<g id=\"edge10\" class=\"edge\">\n",
       "<title>5525056368&#45;&gt;5525056416</title>\n",
       "<path fill=\"none\" stroke=\"black\" d=\"M725.78,-38C737.3,-38 751.25,-38 764.79,-38\"/>\n",
       "<polygon fill=\"black\" stroke=\"black\" points=\"764.48,-41.5 774.48,-38 764.48,-34.5 764.48,-41.5\"/>\n",
       "<text text-anchor=\"middle\" x=\"750.95\" y=\"-41.2\" font-family=\"Times,serif\" font-size=\"14.00\">Z2</text>\n",
       "</g>\n",
       "<!-- 5525056320 -->\n",
       "<g id=\"node3\" class=\"node\">\n",
       "<title>5525056320</title>\n",
       "<ellipse fill=\"none\" stroke=\"black\" cx=\"539.31\" cy=\"-72\" rx=\"42.14\" ry=\"18\"/>\n",
       "<text text-anchor=\"middle\" x=\"539.31\" y=\"-66.95\" font-family=\"Times,serif\" font-size=\"14.00\">MatMul</text>\n",
       "</g>\n",
       "<!-- 5525056320&#45;&gt;5525056368 -->\n",
       "<g id=\"edge8\" class=\"edge\">\n",
       "<title>5525056320&#45;&gt;5525056368</title>\n",
       "<path fill=\"none\" stroke=\"black\" d=\"M577.55,-63.94C602.78,-58.48 635.95,-51.31 661.01,-45.88\"/>\n",
       "<polygon fill=\"black\" stroke=\"black\" points=\"661.73,-49.31 670.76,-43.77 660.25,-42.47 661.73,-49.31\"/>\n",
       "<text text-anchor=\"middle\" x=\"626.45\" y=\"-62.2\" font-family=\"Times,serif\" font-size=\"14.00\">Z1 @ W2</text>\n",
       "</g>\n",
       "<!-- 5525048976 -->\n",
       "<g id=\"node4\" class=\"node\">\n",
       "<title>5525048976</title>\n",
       "<ellipse fill=\"none\" stroke=\"black\" cx=\"412.6\" cy=\"-102\" rx=\"28.32\" ry=\"18\"/>\n",
       "<text text-anchor=\"middle\" x=\"412.6\" y=\"-96.95\" font-family=\"Times,serif\" font-size=\"14.00\">Relu</text>\n",
       "</g>\n",
       "<!-- 5525048976&#45;&gt;5525056320 -->\n",
       "<g id=\"edge6\" class=\"edge\">\n",
       "<title>5525048976&#45;&gt;5525056320</title>\n",
       "<path fill=\"none\" stroke=\"black\" d=\"M439.44,-95.78C454.3,-92.21 473.44,-87.6 490.92,-83.4\"/>\n",
       "<polygon fill=\"black\" stroke=\"black\" points=\"491.72,-86.81 500.63,-81.06 490.08,-80 491.72,-86.81\"/>\n",
       "<text text-anchor=\"middle\" x=\"469.04\" y=\"-93.2\" font-family=\"Times,serif\" font-size=\"14.00\">A1</text>\n",
       "</g>\n",
       "<!-- 5513007648 -->\n",
       "<g id=\"node5\" class=\"node\">\n",
       "<title>5513007648</title>\n",
       "<ellipse fill=\"none\" stroke=\"black\" cx=\"306.28\" cy=\"-102\" rx=\"27\" ry=\"18\"/>\n",
       "<text text-anchor=\"middle\" x=\"306.28\" y=\"-96.95\" font-family=\"Times,serif\" font-size=\"14.00\">Add</text>\n",
       "</g>\n",
       "<!-- 5513007648&#45;&gt;5525048976 -->\n",
       "<g id=\"edge5\" class=\"edge\">\n",
       "<title>5513007648&#45;&gt;5525048976</title>\n",
       "<path fill=\"none\" stroke=\"black\" d=\"M333.6,-102C345.34,-102 359.41,-102 372.35,-102\"/>\n",
       "<polygon fill=\"black\" stroke=\"black\" points=\"372.31,-105.5 382.31,-102 372.31,-98.5 372.31,-105.5\"/>\n",
       "<text text-anchor=\"middle\" x=\"358.78\" y=\"-105.2\" font-family=\"Times,serif\" font-size=\"14.00\">Z1</text>\n",
       "</g>\n",
       "<!-- 5525054784 -->\n",
       "<g id=\"node6\" class=\"node\">\n",
       "<title>5525054784</title>\n",
       "<ellipse fill=\"none\" stroke=\"black\" cx=\"152.39\" cy=\"-136\" rx=\"42.14\" ry=\"18\"/>\n",
       "<text text-anchor=\"middle\" x=\"152.39\" y=\"-130.95\" font-family=\"Times,serif\" font-size=\"14.00\">MatMul</text>\n",
       "</g>\n",
       "<!-- 5525054784&#45;&gt;5513007648 -->\n",
       "<g id=\"edge3\" class=\"edge\">\n",
       "<title>5525054784&#45;&gt;5513007648</title>\n",
       "<path fill=\"none\" stroke=\"black\" d=\"M190.16,-127.77C214.15,-122.4 245.33,-115.42 269.18,-110.08\"/>\n",
       "<polygon fill=\"black\" stroke=\"black\" points=\"269.77,-113.53 278.77,-107.93 268.24,-106.7 269.77,-113.53\"/>\n",
       "<text text-anchor=\"middle\" x=\"236.9\" y=\"-125.2\" font-family=\"Times,serif\" font-size=\"14.00\">X @ W1</text>\n",
       "</g>\n",
       "<!-- 5523715376 -->\n",
       "<g id=\"node7\" class=\"node\">\n",
       "<title>5523715376</title>\n",
       "<ellipse fill=\"none\" stroke=\"black\" cx=\"27\" cy=\"-163\" rx=\"27\" ry=\"18\"/>\n",
       "<text text-anchor=\"middle\" x=\"27\" y=\"-157.95\" font-family=\"Times,serif\" font-size=\"14.00\">X</text>\n",
       "</g>\n",
       "<!-- 5523715376&#45;&gt;5525054784 -->\n",
       "<g id=\"edge1\" class=\"edge\">\n",
       "<title>5523715376&#45;&gt;5525054784</title>\n",
       "<path fill=\"none\" stroke=\"black\" d=\"M52.97,-157.54C67.41,-154.38 86.07,-150.29 103.26,-146.53\"/>\n",
       "<polygon fill=\"black\" stroke=\"black\" points=\"103.78,-150 112.8,-144.44 102.28,-143.16 103.78,-150\"/>\n",
       "<text text-anchor=\"middle\" x=\"82.12\" y=\"-155.2\" font-family=\"Times,serif\" font-size=\"14.00\">X</text>\n",
       "</g>\n",
       "<!-- 5525055984 -->\n",
       "<g id=\"node8\" class=\"node\">\n",
       "<title>5525055984</title>\n",
       "<ellipse fill=\"none\" stroke=\"black\" cx=\"27\" cy=\"-109\" rx=\"27\" ry=\"18\"/>\n",
       "<text text-anchor=\"middle\" x=\"27\" y=\"-103.95\" font-family=\"Times,serif\" font-size=\"14.00\">W1</text>\n",
       "</g>\n",
       "<!-- 5525055984&#45;&gt;5525054784 -->\n",
       "<g id=\"edge2\" class=\"edge\">\n",
       "<title>5525055984&#45;&gt;5525054784</title>\n",
       "<path fill=\"none\" stroke=\"black\" d=\"M52.97,-114.46C67.41,-117.62 86.07,-121.71 103.26,-125.47\"/>\n",
       "<polygon fill=\"black\" stroke=\"black\" points=\"102.28,-128.84 112.8,-127.56 103.78,-122 102.28,-128.84\"/>\n",
       "<text text-anchor=\"middle\" x=\"82.12\" y=\"-125.2\" font-family=\"Times,serif\" font-size=\"14.00\">W1</text>\n",
       "</g>\n",
       "<!-- 5525047392 -->\n",
       "<g id=\"node9\" class=\"node\">\n",
       "<title>5525047392</title>\n",
       "<ellipse fill=\"none\" stroke=\"black\" cx=\"152.39\" cy=\"-82\" rx=\"27\" ry=\"18\"/>\n",
       "<text text-anchor=\"middle\" x=\"152.39\" y=\"-76.95\" font-family=\"Times,serif\" font-size=\"14.00\">b1</text>\n",
       "</g>\n",
       "<!-- 5525047392&#45;&gt;5513007648 -->\n",
       "<g id=\"edge4\" class=\"edge\">\n",
       "<title>5525047392&#45;&gt;5513007648</title>\n",
       "<path fill=\"none\" stroke=\"black\" d=\"M179.71,-82.77C201.65,-83.73 233.67,-85.84 261.28,-90.5 264.24,-91 267.3,-91.61 270.35,-92.27\"/>\n",
       "<polygon fill=\"black\" stroke=\"black\" points=\"269.22,-95.6 279.77,-94.54 270.86,-88.8 269.22,-95.6\"/>\n",
       "<text text-anchor=\"middle\" x=\"236.9\" y=\"-93.2\" font-family=\"Times,serif\" font-size=\"14.00\">b1</text>\n",
       "</g>\n",
       "<!-- 5525053824 -->\n",
       "<g id=\"node10\" class=\"node\">\n",
       "<title>5525053824</title>\n",
       "<ellipse fill=\"none\" stroke=\"black\" cx=\"412.6\" cy=\"-48\" rx=\"27\" ry=\"18\"/>\n",
       "<text text-anchor=\"middle\" x=\"412.6\" y=\"-42.95\" font-family=\"Times,serif\" font-size=\"14.00\">W2</text>\n",
       "</g>\n",
       "<!-- 5525053824&#45;&gt;5525056320 -->\n",
       "<g id=\"edge7\" class=\"edge\">\n",
       "<title>5525053824&#45;&gt;5525056320</title>\n",
       "<path fill=\"none\" stroke=\"black\" d=\"M439.57,-50.6C451.66,-52 466.21,-53.97 479.17,-56.5 483.5,-57.34 487.98,-58.32 492.45,-59.37\"/>\n",
       "<polygon fill=\"black\" stroke=\"black\" points=\"491.44,-62.72 501.98,-61.72 493.11,-55.93 491.44,-62.72\"/>\n",
       "<text text-anchor=\"middle\" x=\"469.04\" y=\"-59.2\" font-family=\"Times,serif\" font-size=\"14.00\">W2</text>\n",
       "</g>\n",
       "<!-- 5525056272 -->\n",
       "<g id=\"node11\" class=\"node\">\n",
       "<title>5525056272</title>\n",
       "<ellipse fill=\"none\" stroke=\"black\" cx=\"539.31\" cy=\"-18\" rx=\"27\" ry=\"18\"/>\n",
       "<text text-anchor=\"middle\" x=\"539.31\" y=\"-12.95\" font-family=\"Times,serif\" font-size=\"14.00\">b2</text>\n",
       "</g>\n",
       "<!-- 5525056272&#45;&gt;5525056368 -->\n",
       "<g id=\"edge9\" class=\"edge\">\n",
       "<title>5525056272&#45;&gt;5525056368</title>\n",
       "<path fill=\"none\" stroke=\"black\" d=\"M566.53,-18.63C589.56,-19.5 623.91,-21.57 653.45,-26.5 656.41,-26.99 659.47,-27.6 662.52,-28.26\"/>\n",
       "<polygon fill=\"black\" stroke=\"black\" points=\"661.4,-31.59 671.94,-30.53 663.03,-24.79 661.4,-31.59\"/>\n",
       "<text text-anchor=\"middle\" x=\"626.45\" y=\"-29.2\" font-family=\"Times,serif\" font-size=\"14.00\">b2</text>\n",
       "</g>\n",
       "</g>\n",
       "</svg>\n"
      ],
      "text/plain": [
       "<graphviz.graphs.Digraph at 0x14951b0e0>"
      ]
     },
     "execution_count": 211,
     "metadata": {},
     "output_type": "execute_result"
    }
   ],
   "source": [
    "softmax.generate_graph()"
   ]
  },
  {
   "cell_type": "markdown",
   "id": "15999e6a-9e7a-44e2-aa14-b756f51461a7",
   "metadata": {},
   "source": [
    "We can create predictions using apply_fwd:"
   ]
  },
  {
   "cell_type": "code",
   "execution_count": 212,
   "id": "ac10333d-d18b-4289-9767-32cf9c45d361",
   "metadata": {},
   "outputs": [
    {
     "data": {
      "text/plain": [
       "array([[0.51408579, 0.29557176, 0.19034245],\n",
       "       [0.42508635, 0.26655849, 0.30835516]])"
      ]
     },
     "execution_count": 212,
     "metadata": {},
     "output_type": "execute_result"
    }
   ],
   "source": [
    "predictions = softmax.apply_fwd()\n",
    "\n",
    "predictions[:2]"
   ]
  },
  {
   "cell_type": "markdown",
   "id": "999e5d29-3b22-46ea-99f7-bbac932146c9",
   "metadata": {},
   "source": [
    "Now, we can run the backward pass of the network. We'll first graph it out:"
   ]
  },
  {
   "cell_type": "code",
   "execution_count": 213,
   "id": "e52a7a5d-7c02-4c82-b1d4-213498b3cc96",
   "metadata": {},
   "outputs": [
    {
     "data": {
      "image/svg+xml": [
       "<?xml version=\"1.0\" encoding=\"UTF-8\" standalone=\"no\"?>\n",
       "<!DOCTYPE svg PUBLIC \"-//W3C//DTD SVG 1.1//EN\"\n",
       " \"http://www.w3.org/Graphics/SVG/1.1/DTD/svg11.dtd\">\n",
       "<!-- Generated by graphviz version 11.0.0 (20240428.1522)\n",
       " -->\n",
       "<!-- Title: fwd_pass Pages: 1 -->\n",
       "<svg width=\"964pt\" height=\"189pt\"\n",
       " viewBox=\"0.00 0.00 964.25 189.00\" xmlns=\"http://www.w3.org/2000/svg\" xmlns:xlink=\"http://www.w3.org/1999/xlink\">\n",
       "<g id=\"graph0\" class=\"graph\" transform=\"scale(1 1) rotate(0) translate(4 185)\">\n",
       "<title>fwd_pass</title>\n",
       "<polygon fill=\"white\" stroke=\"none\" points=\"-4,4 -4,-185 960.25,-185 960.25,4 -4,4\"/>\n",
       "<!-- 5525056416 -->\n",
       "<g id=\"node1\" class=\"node\">\n",
       "<title>5525056416</title>\n",
       "<ellipse fill=\"none\" stroke=\"black\" cx=\"42.65\" cy=\"-38\" rx=\"42.65\" ry=\"18\"/>\n",
       "<text text-anchor=\"middle\" x=\"42.65\" y=\"-32.95\" font-family=\"Times,serif\" font-size=\"14.00\">Softmax</text>\n",
       "</g>\n",
       "<!-- 5525056368 -->\n",
       "<g id=\"node2\" class=\"node\">\n",
       "<title>5525056368</title>\n",
       "<ellipse fill=\"none\" stroke=\"black\" cx=\"179.05\" cy=\"-38\" rx=\"27\" ry=\"18\"/>\n",
       "<text text-anchor=\"middle\" x=\"179.05\" y=\"-32.95\" font-family=\"Times,serif\" font-size=\"14.00\">Add</text>\n",
       "</g>\n",
       "<!-- 5525056416&#45;&gt;5525056368 -->\n",
       "<g id=\"edge10\" class=\"edge\">\n",
       "<title>5525056416&#45;&gt;5525056368</title>\n",
       "<path fill=\"none\" stroke=\"red\" d=\"M85.44,-38C103.1,-38 123.5,-38 140.65,-38\"/>\n",
       "<polygon fill=\"red\" stroke=\"red\" points=\"140.42,-41.5 150.42,-38 140.42,-34.5 140.42,-41.5\"/>\n",
       "<text text-anchor=\"middle\" x=\"118.68\" y=\"-41.2\" font-family=\"Times,serif\" font-size=\"14.00\">d(Z2)</text>\n",
       "</g>\n",
       "<!-- 5525056320 -->\n",
       "<g id=\"node3\" class=\"node\">\n",
       "<title>5525056320</title>\n",
       "<ellipse fill=\"none\" stroke=\"black\" cx=\"353.94\" cy=\"-72\" rx=\"42.14\" ry=\"18\"/>\n",
       "<text text-anchor=\"middle\" x=\"353.94\" y=\"-66.95\" font-family=\"Times,serif\" font-size=\"14.00\">MatMul</text>\n",
       "</g>\n",
       "<!-- 5525056368&#45;&gt;5525056320 -->\n",
       "<g id=\"edge8\" class=\"edge\">\n",
       "<title>5525056368&#45;&gt;5525056320</title>\n",
       "<path fill=\"none\" stroke=\"red\" d=\"M205.19,-42.94C230.99,-48.02 271.81,-56.05 304.01,-62.38\"/>\n",
       "<polygon fill=\"red\" stroke=\"red\" points=\"303.03,-65.75 313.52,-64.25 304.38,-58.88 303.03,-65.75\"/>\n",
       "<text text-anchor=\"middle\" x=\"258.93\" y=\"-63.2\" font-family=\"Times,serif\" font-size=\"14.00\">d(Z1 @ W2)</text>\n",
       "</g>\n",
       "<!-- 5525056272 -->\n",
       "<g id=\"node11\" class=\"node\">\n",
       "<title>5525056272</title>\n",
       "<ellipse fill=\"none\" stroke=\"black\" cx=\"353.94\" cy=\"-18\" rx=\"27\" ry=\"18\"/>\n",
       "<text text-anchor=\"middle\" x=\"353.94\" y=\"-12.95\" font-family=\"Times,serif\" font-size=\"14.00\">b2</text>\n",
       "</g>\n",
       "<!-- 5525056368&#45;&gt;5525056272 -->\n",
       "<g id=\"edge9\" class=\"edge\">\n",
       "<title>5525056368&#45;&gt;5525056272</title>\n",
       "<path fill=\"none\" stroke=\"red\" d=\"M204.08,-30.84C210.52,-29.16 217.5,-27.56 224.05,-26.5 254.57,-21.55 289.61,-19.47 315.44,-18.6\"/>\n",
       "<polygon fill=\"red\" stroke=\"red\" points=\"315.2,-22.11 325.1,-18.32 315,-15.11 315.2,-22.11\"/>\n",
       "<text text-anchor=\"middle\" x=\"258.93\" y=\"-29.2\" font-family=\"Times,serif\" font-size=\"14.00\">d(b2)</text>\n",
       "</g>\n",
       "<!-- 5525048976 -->\n",
       "<g id=\"node4\" class=\"node\">\n",
       "<title>5525048976</title>\n",
       "<ellipse fill=\"none\" stroke=\"black\" cx=\"496.4\" cy=\"-102\" rx=\"28.32\" ry=\"18\"/>\n",
       "<text text-anchor=\"middle\" x=\"496.4\" y=\"-96.95\" font-family=\"Times,serif\" font-size=\"14.00\">Relu</text>\n",
       "</g>\n",
       "<!-- 5525056320&#45;&gt;5525048976 -->\n",
       "<g id=\"edge6\" class=\"edge\">\n",
       "<title>5525056320&#45;&gt;5525048976</title>\n",
       "<path fill=\"none\" stroke=\"red\" d=\"M392.21,-79.96C412.55,-84.31 437.66,-89.67 458.02,-94.02\"/>\n",
       "<polygon fill=\"red\" stroke=\"red\" points=\"457.09,-97.4 467.6,-96.06 458.55,-90.55 457.09,-97.4\"/>\n",
       "<text text-anchor=\"middle\" x=\"432.08\" y=\"-95.2\" font-family=\"Times,serif\" font-size=\"14.00\">d(A1)</text>\n",
       "</g>\n",
       "<!-- 5525053824 -->\n",
       "<g id=\"node10\" class=\"node\">\n",
       "<title>5525053824</title>\n",
       "<ellipse fill=\"none\" stroke=\"black\" cx=\"496.4\" cy=\"-48\" rx=\"27\" ry=\"18\"/>\n",
       "<text text-anchor=\"middle\" x=\"496.4\" y=\"-42.95\" font-family=\"Times,serif\" font-size=\"14.00\">W2</text>\n",
       "</g>\n",
       "<!-- 5525056320&#45;&gt;5525053824 -->\n",
       "<g id=\"edge7\" class=\"edge\">\n",
       "<title>5525056320&#45;&gt;5525053824</title>\n",
       "<path fill=\"none\" stroke=\"red\" d=\"M389.45,-62.01C397.48,-59.95 406.04,-57.97 414.08,-56.5 428.37,-53.9 444.23,-52.02 458.13,-50.7\"/>\n",
       "<polygon fill=\"red\" stroke=\"red\" points=\"458.09,-54.21 467.75,-49.85 457.48,-47.24 458.09,-54.21\"/>\n",
       "<text text-anchor=\"middle\" x=\"432.08\" y=\"-59.2\" font-family=\"Times,serif\" font-size=\"14.00\">d(W2)</text>\n",
       "</g>\n",
       "<!-- 5513007648 -->\n",
       "<g id=\"node5\" class=\"node\">\n",
       "<title>5513007648</title>\n",
       "<ellipse fill=\"none\" stroke=\"black\" cx=\"618.47\" cy=\"-102\" rx=\"27\" ry=\"18\"/>\n",
       "<text text-anchor=\"middle\" x=\"618.47\" y=\"-96.95\" font-family=\"Times,serif\" font-size=\"14.00\">Add</text>\n",
       "</g>\n",
       "<!-- 5525048976&#45;&gt;5513007648 -->\n",
       "<g id=\"edge5\" class=\"edge\">\n",
       "<title>5525048976&#45;&gt;5513007648</title>\n",
       "<path fill=\"none\" stroke=\"red\" d=\"M524.95,-102C541.22,-102 562.06,-102 579.84,-102\"/>\n",
       "<polygon fill=\"red\" stroke=\"red\" points=\"579.77,-105.5 589.77,-102 579.77,-98.5 579.77,-105.5\"/>\n",
       "<text text-anchor=\"middle\" x=\"558.09\" y=\"-105.2\" font-family=\"Times,serif\" font-size=\"14.00\">d(Z1)</text>\n",
       "</g>\n",
       "<!-- 5525054784 -->\n",
       "<g id=\"node6\" class=\"node\">\n",
       "<title>5525054784</title>\n",
       "<ellipse fill=\"none\" stroke=\"black\" cx=\"788.11\" cy=\"-136\" rx=\"42.14\" ry=\"18\"/>\n",
       "<text text-anchor=\"middle\" x=\"788.11\" y=\"-130.95\" font-family=\"Times,serif\" font-size=\"14.00\">MatMul</text>\n",
       "</g>\n",
       "<!-- 5513007648&#45;&gt;5525054784 -->\n",
       "<g id=\"edge3\" class=\"edge\">\n",
       "<title>5513007648&#45;&gt;5525054784</title>\n",
       "<path fill=\"none\" stroke=\"red\" d=\"M644.57,-107.09C669.3,-112.11 707.73,-119.9 738.46,-126.13\"/>\n",
       "<polygon fill=\"red\" stroke=\"red\" points=\"737.42,-129.49 747.91,-128.05 738.81,-122.63 737.42,-129.49\"/>\n",
       "<text text-anchor=\"middle\" x=\"695.72\" y=\"-126.2\" font-family=\"Times,serif\" font-size=\"14.00\">d(X @ W1)</text>\n",
       "</g>\n",
       "<!-- 5525047392 -->\n",
       "<g id=\"node9\" class=\"node\">\n",
       "<title>5525047392</title>\n",
       "<ellipse fill=\"none\" stroke=\"black\" cx=\"788.11\" cy=\"-82\" rx=\"27\" ry=\"18\"/>\n",
       "<text text-anchor=\"middle\" x=\"788.11\" y=\"-76.95\" font-family=\"Times,serif\" font-size=\"14.00\">b1</text>\n",
       "</g>\n",
       "<!-- 5513007648&#45;&gt;5525047392 -->\n",
       "<g id=\"edge4\" class=\"edge\">\n",
       "<title>5513007648&#45;&gt;5525047392</title>\n",
       "<path fill=\"none\" stroke=\"red\" d=\"M643.5,-94.85C649.94,-93.18 656.92,-91.57 663.47,-90.5 692.12,-85.81 724.91,-83.71 749.52,-82.76\"/>\n",
       "<polygon fill=\"red\" stroke=\"red\" points=\"749.5,-86.26 759.38,-82.43 749.27,-79.27 749.5,-86.26\"/>\n",
       "<text text-anchor=\"middle\" x=\"695.72\" y=\"-93.2\" font-family=\"Times,serif\" font-size=\"14.00\">d(b1)</text>\n",
       "</g>\n",
       "<!-- 5523715376 -->\n",
       "<g id=\"node7\" class=\"node\">\n",
       "<title>5523715376</title>\n",
       "<ellipse fill=\"none\" stroke=\"black\" cx=\"929.25\" cy=\"-163\" rx=\"27\" ry=\"18\"/>\n",
       "<text text-anchor=\"middle\" x=\"929.25\" y=\"-157.95\" font-family=\"Times,serif\" font-size=\"14.00\">X</text>\n",
       "</g>\n",
       "<!-- 5525054784&#45;&gt;5523715376 -->\n",
       "<g id=\"edge1\" class=\"edge\">\n",
       "<title>5525054784&#45;&gt;5523715376</title>\n",
       "<path fill=\"none\" stroke=\"red\" d=\"M827.13,-143.38C847.31,-147.29 871.98,-152.08 891.9,-155.95\"/>\n",
       "<polygon fill=\"red\" stroke=\"red\" points=\"891.04,-159.35 901.52,-157.81 892.37,-152.47 891.04,-159.35\"/>\n",
       "</g>\n",
       "<!-- 5525055984 -->\n",
       "<g id=\"node8\" class=\"node\">\n",
       "<title>5525055984</title>\n",
       "<ellipse fill=\"none\" stroke=\"black\" cx=\"929.25\" cy=\"-109\" rx=\"27\" ry=\"18\"/>\n",
       "<text text-anchor=\"middle\" x=\"929.25\" y=\"-103.95\" font-family=\"Times,serif\" font-size=\"14.00\">W1</text>\n",
       "</g>\n",
       "<!-- 5525054784&#45;&gt;5525055984 -->\n",
       "<g id=\"edge2\" class=\"edge\">\n",
       "<title>5525054784&#45;&gt;5525055984</title>\n",
       "<path fill=\"none\" stroke=\"red\" d=\"M827.13,-128.62C847.31,-124.71 871.98,-119.92 891.9,-116.05\"/>\n",
       "<polygon fill=\"red\" stroke=\"red\" points=\"892.37,-119.53 901.52,-114.19 891.04,-112.65 892.37,-119.53\"/>\n",
       "<text text-anchor=\"middle\" x=\"866.25\" y=\"-127.2\" font-family=\"Times,serif\" font-size=\"14.00\">d(W1)</text>\n",
       "</g>\n",
       "</g>\n",
       "</svg>\n"
      ],
      "text/plain": [
       "<graphviz.graphs.Digraph at 0x14951ac00>"
      ]
     },
     "execution_count": 213,
     "metadata": {},
     "output_type": "execute_result"
    }
   ],
   "source": [
    "softmax.generate_graph(backward=True)"
   ]
  },
  {
   "cell_type": "markdown",
   "id": "ccf8fd68-be12-485c-91d0-76a0822c89c4",
   "metadata": {},
   "source": [
    "Then we'll run our backward pass. We first calculate our loss gradient, then pass it into our backward pass as the incoming gradient:"
   ]
  },
  {
   "cell_type": "code",
   "execution_count": 214,
   "id": "1a645287-8b1a-4ec0-9e6e-07723dd64f59",
   "metadata": {},
   "outputs": [],
   "source": [
    "softmax.zero_grad() # zero out the gradients\n",
    "loss_grad = nll_grad(train_y, predictions) # compute the loss gradient\n",
    "softmax.apply_bwd(loss_grad) # pass the loss gradient into the softmax, and run the backward pass\n",
    "softmax.generate_derivative_chains() # generate our derivative equations"
   ]
  },
  {
   "cell_type": "code",
   "execution_count": 215,
   "id": "46cf34e4-5d4c-49a0-b3ec-536f9b749089",
   "metadata": {},
   "outputs": [
    {
     "data": {
      "text/plain": [
       "array([[ 1078.86623385,  1452.92238635, -2531.7886202 ],\n",
       "       [  685.34169939,  1438.06439063, -2123.40609002],\n",
       "       [   11.39607931,  3488.94754329, -3500.3436226 ],\n",
       "       [ 1990.1147882 ,   471.22083925, -2461.33562744],\n",
       "       [ -538.48614737,  1989.95610171, -1451.46995434]])"
      ]
     },
     "execution_count": 215,
     "metadata": {},
     "output_type": "execute_result"
    }
   ],
   "source": [
    "w2_param.grad[:5]"
   ]
  },
  {
   "cell_type": "code",
   "execution_count": 218,
   "id": "7c4105f6-a75f-4631-a733-a0c78fb7c68d",
   "metadata": {},
   "outputs": [
    {
     "data": {
      "text/latex": [
       "$\\frac{{\\partial}}{{\\partial {self.out}}} = \\frac{{\\partial {self.out}}}{{\\partial {node.out}}}*\\frac{{\\partial {self.out}}}{{\\partial {node.out}}}*\\frac{{\\partial {self.out}}}{{\\partial {node.out}}}$"
      ],
      "text/plain": [
       "<IPython.core.display.Latex object>"
      ]
     },
     "execution_count": 218,
     "metadata": {},
     "output_type": "execute_result"
    }
   ],
   "source": [
    "display_chain(w2_param.display_partial_derivative()) #revisit this function -- theres a syntax error somewhere "
   ]
  },
  {
   "cell_type": "code",
   "execution_count": 219,
   "id": "5d3eda4a-a73b-4ebb-bdd9-5772e60b3f42",
   "metadata": {},
   "outputs": [
    {
     "data": {
      "text/latex": [
       "$\\frac{{\\partial}}{{\\partial {self.out}}} = \\frac{{\\partial {self.out}}}{{\\partial {node.out}}}*\\frac{{\\partial {self.out}}}{{\\partial {node.out}}}*\\frac{{\\partial {self.out}}}{{\\partial {node.out}}}*\\frac{{\\partial {self.out}}}{{\\partial {node.out}}}*\\frac{{\\partial {self.out}}}{{\\partial {node.out}}}*\\frac{{\\partial {self.out}}}{{\\partial {node.out}}}$"
      ],
      "text/plain": [
       "<IPython.core.display.Latex object>"
      ]
     },
     "execution_count": 219,
     "metadata": {},
     "output_type": "execute_result"
    }
   ],
   "source": [
    "display_chain(w1_param.display_partial_derivative())"
   ]
  },
  {
   "cell_type": "code",
   "execution_count": 220,
   "id": "cd7c4db3-3df1-404e-b514-666bce021446",
   "metadata": {},
   "outputs": [],
   "source": [
    "# Forward pass\n",
    "l1 = train_x @ w1 + b1\n",
    "l1_activated = np.maximum(l1, 0)\n",
    "l2 = l1_activated @ w2 + b2\n",
    "probs = softmax_func(l2)\n",
    "\n",
    "# Loss\n",
    "loss_grad = nll_grad(train_y, probs)\n",
    "\n",
    "# L2 gradients\n",
    "sm_grad = softmax_grad_func(probs, loss_grad)\n",
    "l2_w_grad = l1_activated.T @ sm_grad\n",
    "l2_b_grad = sm_grad.sum(axis=0)\n",
    "\n",
    "# L1 gradients\n",
    "l1_grad = sm_grad @ w2.T\n",
    "l1_grad[l1 < 0] = 0\n",
    "l1_w_grad = train_x.T @ l1_grad\n",
    "l1_b_grad = l1_grad.sum(axis=0)"
   ]
  },
  {
   "cell_type": "markdown",
   "id": "823afcf7-11be-426e-8a09-fe5b5b71a92e",
   "metadata": {},
   "source": [
    "Then we can verify that our computational graph matches the manual results:"
   ]
  },
  {
   "cell_type": "code",
   "execution_count": 221,
   "id": "2a13ae4b-36a3-484c-bf09-f18c0513e402",
   "metadata": {},
   "outputs": [
    {
     "data": {
      "text/plain": [
       "True"
      ]
     },
     "execution_count": 221,
     "metadata": {},
     "output_type": "execute_result"
    }
   ],
   "source": [
    "np.allclose(l1_w_grad, w1_param.grad)"
   ]
  },
  {
   "cell_type": "code",
   "execution_count": null,
   "id": "d9b53364-67a6-41bb-a71a-ca4f372abb93",
   "metadata": {},
   "outputs": [],
   "source": []
  }
 ],
 "metadata": {
  "kernelspec": {
   "display_name": "Python 3 (ipykernel)",
   "language": "python",
   "name": "python3"
  },
  "language_info": {
   "codemirror_mode": {
    "name": "ipython",
    "version": 3
   },
   "file_extension": ".py",
   "mimetype": "text/x-python",
   "name": "python",
   "nbconvert_exporter": "python",
   "pygments_lexer": "ipython3",
   "version": "3.12.1"
  }
 },
 "nbformat": 4,
 "nbformat_minor": 5
}
